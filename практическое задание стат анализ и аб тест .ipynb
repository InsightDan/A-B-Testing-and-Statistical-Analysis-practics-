{
 "cells": [
  {
   "cell_type": "code",
   "execution_count": 1,
   "metadata": {},
   "outputs": [
    {
     "name": "stderr",
     "output_type": "stream",
     "text": [
      "/opt/tljh/user/lib/python3.7/site-packages/outdated/utils.py:18: OutdatedCacheFailedWarning: Failed to use cache while checking for outdated package.\n",
      "Set the environment variable OUTDATED_RAISE_EXCEPTION=1 for a full traceback.\n",
      "Set the environment variable OUTDATED_IGNORE=1 to disable these warnings.\n",
      "  **kwargs\n",
      "/opt/tljh/user/lib/python3.7/site-packages/outdated/utils.py:18: OutdatedPackageWarning: The package outdated is out of date. Your version is 0.2.1, the latest is 0.2.2.\n",
      "Set the environment variable OUTDATED_IGNORE=1 to disable these warnings.\n",
      "  **kwargs\n",
      "/opt/tljh/user/lib/python3.7/site-packages/outdated/utils.py:18: OutdatedPackageWarning: The package pingouin is out of date. Your version is 0.4.0, the latest is 0.5.5.\n",
      "Set the environment variable OUTDATED_IGNORE=1 to disable these warnings.\n",
      "  **kwargs\n"
     ]
    }
   ],
   "source": [
    "import pandas as pd\n",
    "import numpy as np\n",
    "\n",
    "import scipy.stats as ss\n",
    "import statsmodels.api as sm\n",
    "import statsmodels.formula.api as smf\n",
    "from statsmodels.stats.api import anova_lm\n",
    "from statsmodels.stats.multicomp import (pairwise_tukeyhsd,\n",
    "                                         MultiComparison)\n",
    "import pingouin as pg\n",
    "\n",
    "import matplotlib.pyplot as plt\n",
    "import seaborn as sns"
   ]
  },
  {
   "cell_type": "code",
   "execution_count": 2,
   "metadata": {},
   "outputs": [
    {
     "data": {
      "text/html": [
       "<div>\n",
       "<style scoped>\n",
       "    .dataframe tbody tr th:only-of-type {\n",
       "        vertical-align: middle;\n",
       "    }\n",
       "\n",
       "    .dataframe tbody tr th {\n",
       "        vertical-align: top;\n",
       "    }\n",
       "\n",
       "    .dataframe thead th {\n",
       "        text-align: right;\n",
       "    }\n",
       "</style>\n",
       "<table border=\"1\" class=\"dataframe\">\n",
       "  <thead>\n",
       "    <tr style=\"text-align: right;\">\n",
       "      <th></th>\n",
       "      <th>id</th>\n",
       "      <th>group</th>\n",
       "      <th>events</th>\n",
       "    </tr>\n",
       "  </thead>\n",
       "  <tbody>\n",
       "    <tr>\n",
       "      <th>0</th>\n",
       "      <td>16046</td>\n",
       "      <td>A</td>\n",
       "      <td>14</td>\n",
       "    </tr>\n",
       "    <tr>\n",
       "      <th>1</th>\n",
       "      <td>18712</td>\n",
       "      <td>A</td>\n",
       "      <td>41</td>\n",
       "    </tr>\n",
       "    <tr>\n",
       "      <th>2</th>\n",
       "      <td>3268</td>\n",
       "      <td>A</td>\n",
       "      <td>30</td>\n",
       "    </tr>\n",
       "    <tr>\n",
       "      <th>3</th>\n",
       "      <td>22633</td>\n",
       "      <td>A</td>\n",
       "      <td>37</td>\n",
       "    </tr>\n",
       "    <tr>\n",
       "      <th>4</th>\n",
       "      <td>28071</td>\n",
       "      <td>A</td>\n",
       "      <td>38</td>\n",
       "    </tr>\n",
       "    <tr>\n",
       "      <th>...</th>\n",
       "      <td>...</td>\n",
       "      <td>...</td>\n",
       "      <td>...</td>\n",
       "    </tr>\n",
       "    <tr>\n",
       "      <th>29995</th>\n",
       "      <td>22932</td>\n",
       "      <td>C</td>\n",
       "      <td>38</td>\n",
       "    </tr>\n",
       "    <tr>\n",
       "      <th>29996</th>\n",
       "      <td>21787</td>\n",
       "      <td>C</td>\n",
       "      <td>25</td>\n",
       "    </tr>\n",
       "    <tr>\n",
       "      <th>29997</th>\n",
       "      <td>5054</td>\n",
       "      <td>C</td>\n",
       "      <td>34</td>\n",
       "    </tr>\n",
       "    <tr>\n",
       "      <th>29998</th>\n",
       "      <td>10254</td>\n",
       "      <td>C</td>\n",
       "      <td>27</td>\n",
       "    </tr>\n",
       "    <tr>\n",
       "      <th>29999</th>\n",
       "      <td>5692</td>\n",
       "      <td>C</td>\n",
       "      <td>49</td>\n",
       "    </tr>\n",
       "  </tbody>\n",
       "</table>\n",
       "<p>30000 rows × 3 columns</p>\n",
       "</div>"
      ],
      "text/plain": [
       "          id group  events\n",
       "0      16046     A      14\n",
       "1      18712     A      41\n",
       "2       3268     A      30\n",
       "3      22633     A      37\n",
       "4      28071     A      38\n",
       "...      ...   ...     ...\n",
       "29995  22932     C      38\n",
       "29996  21787     C      25\n",
       "29997   5054     C      34\n",
       "29998  10254     C      27\n",
       "29999   5692     C      49\n",
       "\n",
       "[30000 rows x 3 columns]"
      ]
     },
     "execution_count": 2,
     "metadata": {},
     "output_type": "execute_result"
    }
   ],
   "source": [
    "task_1 = pd.read_csv('/mnt/HC_Volume_18315164/home-jupyter/jupyter-daniil-kljuvak-pcp-fbf69/yrok5statistic/5_task_1.csv')\n",
    "task_1"
   ]
  },
  {
   "cell_type": "code",
   "execution_count": 3,
   "metadata": {},
   "outputs": [
    {
     "data": {
      "text/html": [
       "<div>\n",
       "<style scoped>\n",
       "    .dataframe tbody tr th:only-of-type {\n",
       "        vertical-align: middle;\n",
       "    }\n",
       "\n",
       "    .dataframe tbody tr th {\n",
       "        vertical-align: top;\n",
       "    }\n",
       "\n",
       "    .dataframe thead th {\n",
       "        text-align: right;\n",
       "    }\n",
       "</style>\n",
       "<table border=\"1\" class=\"dataframe\">\n",
       "  <thead>\n",
       "    <tr style=\"text-align: right;\">\n",
       "      <th></th>\n",
       "      <th>id</th>\n",
       "      <th>group</th>\n",
       "      <th>segment</th>\n",
       "      <th>events</th>\n",
       "    </tr>\n",
       "  </thead>\n",
       "  <tbody>\n",
       "    <tr>\n",
       "      <th>0</th>\n",
       "      <td>83440</td>\n",
       "      <td>test</td>\n",
       "      <td>high</td>\n",
       "      <td>78.0</td>\n",
       "    </tr>\n",
       "    <tr>\n",
       "      <th>1</th>\n",
       "      <td>96723</td>\n",
       "      <td>test</td>\n",
       "      <td>high</td>\n",
       "      <td>71.0</td>\n",
       "    </tr>\n",
       "    <tr>\n",
       "      <th>2</th>\n",
       "      <td>68719</td>\n",
       "      <td>test</td>\n",
       "      <td>high</td>\n",
       "      <td>80.0</td>\n",
       "    </tr>\n",
       "    <tr>\n",
       "      <th>3</th>\n",
       "      <td>50399</td>\n",
       "      <td>test</td>\n",
       "      <td>high</td>\n",
       "      <td>80.0</td>\n",
       "    </tr>\n",
       "    <tr>\n",
       "      <th>4</th>\n",
       "      <td>95613</td>\n",
       "      <td>test</td>\n",
       "      <td>high</td>\n",
       "      <td>78.0</td>\n",
       "    </tr>\n",
       "    <tr>\n",
       "      <th>...</th>\n",
       "      <td>...</td>\n",
       "      <td>...</td>\n",
       "      <td>...</td>\n",
       "      <td>...</td>\n",
       "    </tr>\n",
       "    <tr>\n",
       "      <th>99995</th>\n",
       "      <td>60695</td>\n",
       "      <td>control</td>\n",
       "      <td>low</td>\n",
       "      <td>15.0</td>\n",
       "    </tr>\n",
       "    <tr>\n",
       "      <th>99996</th>\n",
       "      <td>5934</td>\n",
       "      <td>control</td>\n",
       "      <td>low</td>\n",
       "      <td>16.0</td>\n",
       "    </tr>\n",
       "    <tr>\n",
       "      <th>99997</th>\n",
       "      <td>30046</td>\n",
       "      <td>control</td>\n",
       "      <td>low</td>\n",
       "      <td>22.0</td>\n",
       "    </tr>\n",
       "    <tr>\n",
       "      <th>99998</th>\n",
       "      <td>26474</td>\n",
       "      <td>control</td>\n",
       "      <td>low</td>\n",
       "      <td>21.0</td>\n",
       "    </tr>\n",
       "    <tr>\n",
       "      <th>99999</th>\n",
       "      <td>42649</td>\n",
       "      <td>control</td>\n",
       "      <td>low</td>\n",
       "      <td>23.0</td>\n",
       "    </tr>\n",
       "  </tbody>\n",
       "</table>\n",
       "<p>100000 rows × 4 columns</p>\n",
       "</div>"
      ],
      "text/plain": [
       "          id    group segment  events\n",
       "0      83440     test    high    78.0\n",
       "1      96723     test    high    71.0\n",
       "2      68719     test    high    80.0\n",
       "3      50399     test    high    80.0\n",
       "4      95613     test    high    78.0\n",
       "...      ...      ...     ...     ...\n",
       "99995  60695  control     low    15.0\n",
       "99996   5934  control     low    16.0\n",
       "99997  30046  control     low    22.0\n",
       "99998  26474  control     low    21.0\n",
       "99999  42649  control     low    23.0\n",
       "\n",
       "[100000 rows x 4 columns]"
      ]
     },
     "execution_count": 3,
     "metadata": {},
     "output_type": "execute_result"
    }
   ],
   "source": [
    "task_2 = pd.read_csv('/mnt/HC_Volume_18315164/home-jupyter/jupyter-daniil-kljuvak-pcp-fbf69/yrok5statistic/5_task_2.csv')\n",
    "task_2"
   ]
  },
  {
   "cell_type": "code",
   "execution_count": 19,
   "metadata": {},
   "outputs": [],
   "source": [
    "control = task_2[task_2['group'] == 'control']['events']\n",
    "test = task_2[task_2['group'] == 'test']['events']"
   ]
  },
  {
   "cell_type": "code",
   "execution_count": 20,
   "metadata": {},
   "outputs": [
    {
     "data": {
      "text/plain": [
       "LeveneResult(statistic=2.5440050816535327, pvalue=0.11071679229795423)"
      ]
     },
     "execution_count": 20,
     "metadata": {},
     "output_type": "execute_result"
    }
   ],
   "source": [
    "ss.levene(control, test)"
   ]
  },
  {
   "cell_type": "code",
   "execution_count": null,
   "metadata": {},
   "outputs": [],
   "source": []
  },
  {
   "cell_type": "code",
   "execution_count": 26,
   "metadata": {},
   "outputs": [
    {
     "data": {
      "text/html": [
       "<div>\n",
       "<style scoped>\n",
       "    .dataframe tbody tr th:only-of-type {\n",
       "        vertical-align: middle;\n",
       "    }\n",
       "\n",
       "    .dataframe tbody tr th {\n",
       "        vertical-align: top;\n",
       "    }\n",
       "\n",
       "    .dataframe thead th {\n",
       "        text-align: right;\n",
       "    }\n",
       "</style>\n",
       "<table border=\"1\" class=\"dataframe\">\n",
       "  <thead>\n",
       "    <tr style=\"text-align: right;\">\n",
       "      <th></th>\n",
       "      <th>W</th>\n",
       "      <th>pval</th>\n",
       "      <th>normal</th>\n",
       "    </tr>\n",
       "  </thead>\n",
       "  <tbody>\n",
       "    <tr>\n",
       "      <th>A</th>\n",
       "      <td>2.103460</td>\n",
       "      <td>0.349333</td>\n",
       "      <td>True</td>\n",
       "    </tr>\n",
       "    <tr>\n",
       "      <th>B</th>\n",
       "      <td>0.841072</td>\n",
       "      <td>0.656695</td>\n",
       "      <td>True</td>\n",
       "    </tr>\n",
       "    <tr>\n",
       "      <th>C</th>\n",
       "      <td>3.243726</td>\n",
       "      <td>0.197530</td>\n",
       "      <td>True</td>\n",
       "    </tr>\n",
       "  </tbody>\n",
       "</table>\n",
       "</div>"
      ],
      "text/plain": [
       "          W      pval  normal\n",
       "A  2.103460  0.349333    True\n",
       "B  0.841072  0.656695    True\n",
       "C  3.243726  0.197530    True"
      ]
     },
     "execution_count": 26,
     "metadata": {},
     "output_type": "execute_result"
    }
   ],
   "source": [
    "norm_results = pg.normality(data=task_1, dv='events', group='group', method='normaltest')\n",
    "norm_results"
   ]
  },
  {
   "cell_type": "code",
   "execution_count": 27,
   "metadata": {},
   "outputs": [
    {
     "data": {
      "image/png": "[encoded data removed]",
      "text/plain": [
       "<Figure size 1080x720 with 3 Axes>"
      ]
     },
     "metadata": {
      "needs_background": "light"
     },
     "output_type": "display_data"
    }
   ],
   "source": [
    "plt.figure(figsize=(15, 10))\n",
    "groups = task_1['group'].unique()\n",
    "for i, group in enumerate(groups, start=1):\n",
    "    plt.subplot(1, 3, i)\n",
    "    group_data = task_1[task_1['group'] == group]['events']\n",
    "    ss.probplot(group_data, dist=\"norm\", plot=plt)\n",
    "    plt.title(f'Q-Q Plot for Group {group}')\n",
    "plt.tight_layout()\n",
    "plt.show()"
   ]
  },
  {
   "cell_type": "code",
   "execution_count": 30,
   "metadata": {},
   "outputs": [],
   "source": [
    "# Выделение данных по группам\n",
    "a = task_1[task_1['group'] == 'A']['events']\n",
    "b = task_1[task_1['group'] == 'B']['events']\n",
    "c = task_1[task_1['group'] == 'C']['events'] "
   ]
  },
  {
   "cell_type": "code",
   "execution_count": 35,
   "metadata": {},
   "outputs": [
    {
     "name": "stdout",
     "output_type": "stream",
     "text": [
      "Результаты ANOVA: F=2886.167, p-value=0.0000\n"
     ]
    }
   ],
   "source": [
    "f_stat, p_value = ss.f_oneway(a, b, c)\n",
    "print(f\"Результаты ANOVA: F={f_stat:.3f}, p-value={p_value:.4f}\")"
   ]
  },
  {
   "cell_type": "code",
   "execution_count": null,
   "metadata": {},
   "outputs": [],
   "source": []
  },
  {
   "cell_type": "code",
   "execution_count": 37,
   "metadata": {},
   "outputs": [
    {
     "data": {
      "text/plain": [
       "<statsmodels.sandbox.stats.multicomp.TukeyHSDResults at 0x7f0e54c34fd0>"
      ]
     },
     "metadata": {},
     "output_type": "display_data"
    },
    {
     "data": {
      "text/html": [
       "<table class=\"simpletable\">\n",
       "<caption>Multiple Comparison of Means - Tukey HSD, FWER=0.05</caption>\n",
       "<tr>\n",
       "  <th>group1</th> <th>group2</th> <th>meandiff</th> <th>p-adj</th>   <th>lower</th>   <th>upper</th>  <th>reject</th>\n",
       "</tr>\n",
       "<tr>\n",
       "     <td>A</td>      <td>B</td>     <td>8.034</td>  <td>0.001</td>  <td>7.7038</td>  <td>8.3642</td>   <td>True</td> \n",
       "</tr>\n",
       "<tr>\n",
       "     <td>A</td>      <td>C</td>    <td>-2.1093</td> <td>0.001</td>  <td>-2.4395</td> <td>-1.7791</td>  <td>True</td> \n",
       "</tr>\n",
       "<tr>\n",
       "     <td>B</td>      <td>C</td>   <td>-10.1433</td> <td>0.001</td> <td>-10.4735</td> <td>-9.8131</td>  <td>True</td> \n",
       "</tr>\n",
       "</table>"
      ],
      "text/plain": [
       "<class 'statsmodels.iolib.table.SimpleTable'>"
      ]
     },
     "execution_count": 37,
     "metadata": {},
     "output_type": "execute_result"
    }
   ],
   "source": [
    "# Проводим тест Тьюки\n",
    "tukey_results = pairwise_tukeyhsd(\n",
    "    endog=task_1['events'],  # зависимая переменная\n",
    "    groups=task_1['group'],  # группы для сравнения\n",
    "    alpha=0.05  # уровень значимости\n",
    ")\n",
    "from IPython.display import display\n",
    "display(tukey_results)\n",
    "tukey_results.summary()"
   ]
  },
  {
   "cell_type": "code",
   "execution_count": 38,
   "metadata": {},
   "outputs": [
    {
     "data": {
      "text/plain": [
       "27.4703"
      ]
     },
     "execution_count": 38,
     "metadata": {},
     "output_type": "execute_result"
    }
   ],
   "source": [
    "c.mean()"
   ]
  },
  {
   "cell_type": "code",
   "execution_count": 39,
   "metadata": {},
   "outputs": [
    {
     "data": {
      "text/plain": [
       "37.6136"
      ]
     },
     "execution_count": 39,
     "metadata": {},
     "output_type": "execute_result"
    }
   ],
   "source": [
    "b.mean()"
   ]
  },
  {
   "cell_type": "code",
   "execution_count": 40,
   "metadata": {},
   "outputs": [
    {
     "data": {
      "text/plain": [
       "29.5796"
      ]
     },
     "execution_count": 40,
     "metadata": {},
     "output_type": "execute_result"
    }
   ],
   "source": [
    "a.mean()"
   ]
  },
  {
   "cell_type": "code",
   "execution_count": 42,
   "metadata": {},
   "outputs": [
    {
     "data": {
      "text/html": [
       "<div>\n",
       "<style scoped>\n",
       "    .dataframe tbody tr th:only-of-type {\n",
       "        vertical-align: middle;\n",
       "    }\n",
       "\n",
       "    .dataframe tbody tr th {\n",
       "        vertical-align: top;\n",
       "    }\n",
       "\n",
       "    .dataframe thead th {\n",
       "        text-align: right;\n",
       "    }\n",
       "</style>\n",
       "<table border=\"1\" class=\"dataframe\">\n",
       "  <thead>\n",
       "    <tr style=\"text-align: right;\">\n",
       "      <th></th>\n",
       "      <th>id</th>\n",
       "      <th>group</th>\n",
       "      <th>segment</th>\n",
       "      <th>events</th>\n",
       "    </tr>\n",
       "  </thead>\n",
       "  <tbody>\n",
       "    <tr>\n",
       "      <th>0</th>\n",
       "      <td>83440</td>\n",
       "      <td>test</td>\n",
       "      <td>high</td>\n",
       "      <td>78.0</td>\n",
       "    </tr>\n",
       "    <tr>\n",
       "      <th>1</th>\n",
       "      <td>96723</td>\n",
       "      <td>test</td>\n",
       "      <td>high</td>\n",
       "      <td>71.0</td>\n",
       "    </tr>\n",
       "    <tr>\n",
       "      <th>2</th>\n",
       "      <td>68719</td>\n",
       "      <td>test</td>\n",
       "      <td>high</td>\n",
       "      <td>80.0</td>\n",
       "    </tr>\n",
       "    <tr>\n",
       "      <th>3</th>\n",
       "      <td>50399</td>\n",
       "      <td>test</td>\n",
       "      <td>high</td>\n",
       "      <td>80.0</td>\n",
       "    </tr>\n",
       "    <tr>\n",
       "      <th>4</th>\n",
       "      <td>95613</td>\n",
       "      <td>test</td>\n",
       "      <td>high</td>\n",
       "      <td>78.0</td>\n",
       "    </tr>\n",
       "    <tr>\n",
       "      <th>...</th>\n",
       "      <td>...</td>\n",
       "      <td>...</td>\n",
       "      <td>...</td>\n",
       "      <td>...</td>\n",
       "    </tr>\n",
       "    <tr>\n",
       "      <th>59995</th>\n",
       "      <td>92868</td>\n",
       "      <td>test</td>\n",
       "      <td>low</td>\n",
       "      <td>35.0</td>\n",
       "    </tr>\n",
       "    <tr>\n",
       "      <th>59996</th>\n",
       "      <td>63488</td>\n",
       "      <td>test</td>\n",
       "      <td>low</td>\n",
       "      <td>31.0</td>\n",
       "    </tr>\n",
       "    <tr>\n",
       "      <th>59997</th>\n",
       "      <td>3425</td>\n",
       "      <td>test</td>\n",
       "      <td>low</td>\n",
       "      <td>32.0</td>\n",
       "    </tr>\n",
       "    <tr>\n",
       "      <th>59998</th>\n",
       "      <td>53067</td>\n",
       "      <td>test</td>\n",
       "      <td>low</td>\n",
       "      <td>18.0</td>\n",
       "    </tr>\n",
       "    <tr>\n",
       "      <th>59999</th>\n",
       "      <td>17249</td>\n",
       "      <td>test</td>\n",
       "      <td>low</td>\n",
       "      <td>31.0</td>\n",
       "    </tr>\n",
       "  </tbody>\n",
       "</table>\n",
       "<p>50000 rows × 4 columns</p>\n",
       "</div>"
      ],
      "text/plain": [
       "          id group segment  events\n",
       "0      83440  test    high    78.0\n",
       "1      96723  test    high    71.0\n",
       "2      68719  test    high    80.0\n",
       "3      50399  test    high    80.0\n",
       "4      95613  test    high    78.0\n",
       "...      ...   ...     ...     ...\n",
       "59995  92868  test     low    35.0\n",
       "59996  63488  test     low    31.0\n",
       "59997   3425  test     low    32.0\n",
       "59998  53067  test     low    18.0\n",
       "59999  17249  test     low    31.0\n",
       "\n",
       "[50000 rows x 4 columns]"
      ]
     },
     "execution_count": 42,
     "metadata": {},
     "output_type": "execute_result"
    }
   ],
   "source": [
    "test = task_2.query('group == \"test\"')\n",
    "test"
   ]
  },
  {
   "cell_type": "code",
   "execution_count": 43,
   "metadata": {},
   "outputs": [
    {
     "data": {
      "text/html": [
       "<div>\n",
       "<style scoped>\n",
       "    .dataframe tbody tr th:only-of-type {\n",
       "        vertical-align: middle;\n",
       "    }\n",
       "\n",
       "    .dataframe tbody tr th {\n",
       "        vertical-align: top;\n",
       "    }\n",
       "\n",
       "    .dataframe thead th {\n",
       "        text-align: right;\n",
       "    }\n",
       "</style>\n",
       "<table border=\"1\" class=\"dataframe\">\n",
       "  <thead>\n",
       "    <tr style=\"text-align: right;\">\n",
       "      <th></th>\n",
       "      <th>id</th>\n",
       "      <th>group</th>\n",
       "      <th>segment</th>\n",
       "      <th>events</th>\n",
       "    </tr>\n",
       "  </thead>\n",
       "  <tbody>\n",
       "    <tr>\n",
       "      <th>10000</th>\n",
       "      <td>34028</td>\n",
       "      <td>control</td>\n",
       "      <td>high</td>\n",
       "      <td>47.0</td>\n",
       "    </tr>\n",
       "    <tr>\n",
       "      <th>10001</th>\n",
       "      <td>75598</td>\n",
       "      <td>control</td>\n",
       "      <td>high</td>\n",
       "      <td>66.0</td>\n",
       "    </tr>\n",
       "    <tr>\n",
       "      <th>10002</th>\n",
       "      <td>1117</td>\n",
       "      <td>control</td>\n",
       "      <td>high</td>\n",
       "      <td>60.0</td>\n",
       "    </tr>\n",
       "    <tr>\n",
       "      <th>10003</th>\n",
       "      <td>7289</td>\n",
       "      <td>control</td>\n",
       "      <td>high</td>\n",
       "      <td>74.0</td>\n",
       "    </tr>\n",
       "    <tr>\n",
       "      <th>10004</th>\n",
       "      <td>79220</td>\n",
       "      <td>control</td>\n",
       "      <td>high</td>\n",
       "      <td>56.0</td>\n",
       "    </tr>\n",
       "    <tr>\n",
       "      <th>...</th>\n",
       "      <td>...</td>\n",
       "      <td>...</td>\n",
       "      <td>...</td>\n",
       "      <td>...</td>\n",
       "    </tr>\n",
       "    <tr>\n",
       "      <th>99995</th>\n",
       "      <td>60695</td>\n",
       "      <td>control</td>\n",
       "      <td>low</td>\n",
       "      <td>15.0</td>\n",
       "    </tr>\n",
       "    <tr>\n",
       "      <th>99996</th>\n",
       "      <td>5934</td>\n",
       "      <td>control</td>\n",
       "      <td>low</td>\n",
       "      <td>16.0</td>\n",
       "    </tr>\n",
       "    <tr>\n",
       "      <th>99997</th>\n",
       "      <td>30046</td>\n",
       "      <td>control</td>\n",
       "      <td>low</td>\n",
       "      <td>22.0</td>\n",
       "    </tr>\n",
       "    <tr>\n",
       "      <th>99998</th>\n",
       "      <td>26474</td>\n",
       "      <td>control</td>\n",
       "      <td>low</td>\n",
       "      <td>21.0</td>\n",
       "    </tr>\n",
       "    <tr>\n",
       "      <th>99999</th>\n",
       "      <td>42649</td>\n",
       "      <td>control</td>\n",
       "      <td>low</td>\n",
       "      <td>23.0</td>\n",
       "    </tr>\n",
       "  </tbody>\n",
       "</table>\n",
       "<p>50000 rows × 4 columns</p>\n",
       "</div>"
      ],
      "text/plain": [
       "          id    group segment  events\n",
       "10000  34028  control    high    47.0\n",
       "10001  75598  control    high    66.0\n",
       "10002   1117  control    high    60.0\n",
       "10003   7289  control    high    74.0\n",
       "10004  79220  control    high    56.0\n",
       "...      ...      ...     ...     ...\n",
       "99995  60695  control     low    15.0\n",
       "99996   5934  control     low    16.0\n",
       "99997  30046  control     low    22.0\n",
       "99998  26474  control     low    21.0\n",
       "99999  42649  control     low    23.0\n",
       "\n",
       "[50000 rows x 4 columns]"
      ]
     },
     "execution_count": 43,
     "metadata": {},
     "output_type": "execute_result"
    }
   ],
   "source": [
    "control = task_2.query('group == \"control\"')\n",
    "control"
   ]
  },
  {
   "cell_type": "code",
   "execution_count": 48,
   "metadata": {},
   "outputs": [
    {
     "data": {
      "image/png": "[encoded data removed]",
      "text/plain": [
       "<Figure size 864x576 with 1 Axes>"
      ]
     },
     "metadata": {
      "needs_background": "light"
     },
     "output_type": "display_data"
    }
   ],
   "source": [
    "plt.figure(figsize=(12, 8))\n",
    "sns.histplot(data=test, x=\"events\", \n",
    "             bins=30,              # Количество столбцов\n",
    "             kde=True,            # Добавить кривую плотности\n",
    "             color='royalblue',   # Цвет гистограммы\n",
    "             edgecolor='white',   # Цвет границ столбцов\n",
    "             linewidth=0.5,       # Ширина границ\n",
    "             alpha=0.8)           # Прозрачность\n",
    "# Настройки оформления\n",
    "plt.title('Распределение количества событий (events)', pad=20, fontsize=14)\n",
    "plt.xlabel('Количество событий', fontsize=12)\n",
    "plt.ylabel('Частота встречаемости', fontsize=12)\n",
    "plt.grid(axis='y', linestyle='--', alpha=0.4)"
   ]
  },
  {
   "cell_type": "code",
   "execution_count": 49,
   "metadata": {},
   "outputs": [
    {
     "data": {
      "image/png": "[encoded data removed]",
      "text/plain": [
       "<Figure size 864x576 with 1 Axes>"
      ]
     },
     "metadata": {
      "needs_background": "light"
     },
     "output_type": "display_data"
    }
   ],
   "source": [
    "plt.figure(figsize=(12, 8))\n",
    "sns.histplot(data=control, x=\"events\", \n",
    "             bins=30,              # Количество столбцов\n",
    "             kde=True,            # Добавить кривую плотности\n",
    "             color='royalblue',   # Цвет гистограммы\n",
    "             edgecolor='white',   # Цвет границ столбцов\n",
    "             linewidth=0.5,       # Ширина границ\n",
    "             alpha=0.8)           # Прозрачность\n",
    "# Настройки оформления\n",
    "plt.title('Распределение количества событий (events)', pad=20, fontsize=14)\n",
    "plt.xlabel('Количество событий', fontsize=12)\n",
    "plt.ylabel('Частота встречаемости', fontsize=12)\n",
    "plt.grid(axis='y', linestyle='--', alpha=0.4)"
   ]
  },
  {
   "cell_type": "code",
   "execution_count": 53,
   "metadata": {},
   "outputs": [
    {
     "data": {
      "text/html": [
       "<div>\n",
       "<style scoped>\n",
       "    .dataframe tbody tr th:only-of-type {\n",
       "        vertical-align: middle;\n",
       "    }\n",
       "\n",
       "    .dataframe tbody tr th {\n",
       "        vertical-align: top;\n",
       "    }\n",
       "\n",
       "    .dataframe thead th {\n",
       "        text-align: right;\n",
       "    }\n",
       "</style>\n",
       "<table border=\"1\" class=\"dataframe\">\n",
       "  <thead>\n",
       "    <tr style=\"text-align: right;\">\n",
       "      <th></th>\n",
       "      <th>id</th>\n",
       "      <th>group</th>\n",
       "      <th>segment</th>\n",
       "      <th>events</th>\n",
       "    </tr>\n",
       "  </thead>\n",
       "  <tbody>\n",
       "    <tr>\n",
       "      <th>0</th>\n",
       "      <td>83440</td>\n",
       "      <td>test</td>\n",
       "      <td>high</td>\n",
       "      <td>78.0</td>\n",
       "    </tr>\n",
       "    <tr>\n",
       "      <th>1</th>\n",
       "      <td>96723</td>\n",
       "      <td>test</td>\n",
       "      <td>high</td>\n",
       "      <td>71.0</td>\n",
       "    </tr>\n",
       "    <tr>\n",
       "      <th>2</th>\n",
       "      <td>68719</td>\n",
       "      <td>test</td>\n",
       "      <td>high</td>\n",
       "      <td>80.0</td>\n",
       "    </tr>\n",
       "    <tr>\n",
       "      <th>3</th>\n",
       "      <td>50399</td>\n",
       "      <td>test</td>\n",
       "      <td>high</td>\n",
       "      <td>80.0</td>\n",
       "    </tr>\n",
       "    <tr>\n",
       "      <th>4</th>\n",
       "      <td>95613</td>\n",
       "      <td>test</td>\n",
       "      <td>high</td>\n",
       "      <td>78.0</td>\n",
       "    </tr>\n",
       "    <tr>\n",
       "      <th>...</th>\n",
       "      <td>...</td>\n",
       "      <td>...</td>\n",
       "      <td>...</td>\n",
       "      <td>...</td>\n",
       "    </tr>\n",
       "    <tr>\n",
       "      <th>59995</th>\n",
       "      <td>92868</td>\n",
       "      <td>test</td>\n",
       "      <td>low</td>\n",
       "      <td>35.0</td>\n",
       "    </tr>\n",
       "    <tr>\n",
       "      <th>59996</th>\n",
       "      <td>63488</td>\n",
       "      <td>test</td>\n",
       "      <td>low</td>\n",
       "      <td>31.0</td>\n",
       "    </tr>\n",
       "    <tr>\n",
       "      <th>59997</th>\n",
       "      <td>3425</td>\n",
       "      <td>test</td>\n",
       "      <td>low</td>\n",
       "      <td>32.0</td>\n",
       "    </tr>\n",
       "    <tr>\n",
       "      <th>59998</th>\n",
       "      <td>53067</td>\n",
       "      <td>test</td>\n",
       "      <td>low</td>\n",
       "      <td>18.0</td>\n",
       "    </tr>\n",
       "    <tr>\n",
       "      <th>59999</th>\n",
       "      <td>17249</td>\n",
       "      <td>test</td>\n",
       "      <td>low</td>\n",
       "      <td>31.0</td>\n",
       "    </tr>\n",
       "  </tbody>\n",
       "</table>\n",
       "<p>50000 rows × 4 columns</p>\n",
       "</div>"
      ],
      "text/plain": [
       "          id group segment  events\n",
       "0      83440  test    high    78.0\n",
       "1      96723  test    high    71.0\n",
       "2      68719  test    high    80.0\n",
       "3      50399  test    high    80.0\n",
       "4      95613  test    high    78.0\n",
       "...      ...   ...     ...     ...\n",
       "59995  92868  test     low    35.0\n",
       "59996  63488  test     low    31.0\n",
       "59997   3425  test     low    32.0\n",
       "59998  53067  test     low    18.0\n",
       "59999  17249  test     low    31.0\n",
       "\n",
       "[50000 rows x 4 columns]"
      ]
     },
     "execution_count": 53,
     "metadata": {},
     "output_type": "execute_result"
    }
   ],
   "source": [
    "test"
   ]
  },
  {
   "cell_type": "code",
   "execution_count": 54,
   "metadata": {},
   "outputs": [
    {
     "data": {
      "text/html": [
       "<div>\n",
       "<style scoped>\n",
       "    .dataframe tbody tr th:only-of-type {\n",
       "        vertical-align: middle;\n",
       "    }\n",
       "\n",
       "    .dataframe tbody tr th {\n",
       "        vertical-align: top;\n",
       "    }\n",
       "\n",
       "    .dataframe thead th {\n",
       "        text-align: right;\n",
       "    }\n",
       "</style>\n",
       "<table border=\"1\" class=\"dataframe\">\n",
       "  <thead>\n",
       "    <tr style=\"text-align: right;\">\n",
       "      <th></th>\n",
       "      <th>id</th>\n",
       "      <th>group</th>\n",
       "      <th>segment</th>\n",
       "      <th>events</th>\n",
       "    </tr>\n",
       "  </thead>\n",
       "  <tbody>\n",
       "    <tr>\n",
       "      <th>10000</th>\n",
       "      <td>34028</td>\n",
       "      <td>control</td>\n",
       "      <td>high</td>\n",
       "      <td>47.0</td>\n",
       "    </tr>\n",
       "    <tr>\n",
       "      <th>10001</th>\n",
       "      <td>75598</td>\n",
       "      <td>control</td>\n",
       "      <td>high</td>\n",
       "      <td>66.0</td>\n",
       "    </tr>\n",
       "    <tr>\n",
       "      <th>10002</th>\n",
       "      <td>1117</td>\n",
       "      <td>control</td>\n",
       "      <td>high</td>\n",
       "      <td>60.0</td>\n",
       "    </tr>\n",
       "    <tr>\n",
       "      <th>10003</th>\n",
       "      <td>7289</td>\n",
       "      <td>control</td>\n",
       "      <td>high</td>\n",
       "      <td>74.0</td>\n",
       "    </tr>\n",
       "    <tr>\n",
       "      <th>10004</th>\n",
       "      <td>79220</td>\n",
       "      <td>control</td>\n",
       "      <td>high</td>\n",
       "      <td>56.0</td>\n",
       "    </tr>\n",
       "    <tr>\n",
       "      <th>...</th>\n",
       "      <td>...</td>\n",
       "      <td>...</td>\n",
       "      <td>...</td>\n",
       "      <td>...</td>\n",
       "    </tr>\n",
       "    <tr>\n",
       "      <th>99995</th>\n",
       "      <td>60695</td>\n",
       "      <td>control</td>\n",
       "      <td>low</td>\n",
       "      <td>15.0</td>\n",
       "    </tr>\n",
       "    <tr>\n",
       "      <th>99996</th>\n",
       "      <td>5934</td>\n",
       "      <td>control</td>\n",
       "      <td>low</td>\n",
       "      <td>16.0</td>\n",
       "    </tr>\n",
       "    <tr>\n",
       "      <th>99997</th>\n",
       "      <td>30046</td>\n",
       "      <td>control</td>\n",
       "      <td>low</td>\n",
       "      <td>22.0</td>\n",
       "    </tr>\n",
       "    <tr>\n",
       "      <th>99998</th>\n",
       "      <td>26474</td>\n",
       "      <td>control</td>\n",
       "      <td>low</td>\n",
       "      <td>21.0</td>\n",
       "    </tr>\n",
       "    <tr>\n",
       "      <th>99999</th>\n",
       "      <td>42649</td>\n",
       "      <td>control</td>\n",
       "      <td>low</td>\n",
       "      <td>23.0</td>\n",
       "    </tr>\n",
       "  </tbody>\n",
       "</table>\n",
       "<p>50000 rows × 4 columns</p>\n",
       "</div>"
      ],
      "text/plain": [
       "          id    group segment  events\n",
       "10000  34028  control    high    47.0\n",
       "10001  75598  control    high    66.0\n",
       "10002   1117  control    high    60.0\n",
       "10003   7289  control    high    74.0\n",
       "10004  79220  control    high    56.0\n",
       "...      ...      ...     ...     ...\n",
       "99995  60695  control     low    15.0\n",
       "99996   5934  control     low    16.0\n",
       "99997  30046  control     low    22.0\n",
       "99998  26474  control     low    21.0\n",
       "99999  42649  control     low    23.0\n",
       "\n",
       "[50000 rows x 4 columns]"
      ]
     },
     "execution_count": 54,
     "metadata": {},
     "output_type": "execute_result"
    }
   ],
   "source": [
    "control"
   ]
  },
  {
   "cell_type": "code",
   "execution_count": 57,
   "metadata": {},
   "outputs": [],
   "source": [
    "high_control = task_2.query(\"group == 'control' & segment == 'high'\")"
   ]
  },
  {
   "cell_type": "code",
   "execution_count": 58,
   "metadata": {},
   "outputs": [
    {
     "data": {
      "text/plain": [
       "7.81"
      ]
     },
     "execution_count": 58,
     "metadata": {},
     "output_type": "execute_result"
    }
   ],
   "source": [
    "high_control['events'].std().round(2)"
   ]
  },
  {
   "cell_type": "code",
   "execution_count": 59,
   "metadata": {},
   "outputs": [],
   "source": [
    "low_control = task_2.query(\"group == 'control' & segment == 'low'\")\n",
    "high_test = task_2.query(\"group == 'test' & segment == 'high'\")\n",
    "low_test = task_2.query(\"group == 'test' & segment == 'low'\")\n"
   ]
  },
  {
   "cell_type": "code",
   "execution_count": 60,
   "metadata": {},
   "outputs": [],
   "source": [
    "task_2['combination'] = task_2.group + '/' + task_2.segment"
   ]
  },
  {
   "cell_type": "code",
   "execution_count": 61,
   "metadata": {},
   "outputs": [
    {
     "data": {
      "text/html": [
       "<div>\n",
       "<style scoped>\n",
       "    .dataframe tbody tr th:only-of-type {\n",
       "        vertical-align: middle;\n",
       "    }\n",
       "\n",
       "    .dataframe tbody tr th {\n",
       "        vertical-align: top;\n",
       "    }\n",
       "\n",
       "    .dataframe thead th {\n",
       "        text-align: right;\n",
       "    }\n",
       "</style>\n",
       "<table border=\"1\" class=\"dataframe\">\n",
       "  <thead>\n",
       "    <tr style=\"text-align: right;\">\n",
       "      <th></th>\n",
       "      <th>A</th>\n",
       "      <th>B</th>\n",
       "      <th>mean(A)</th>\n",
       "      <th>mean(B)</th>\n",
       "      <th>diff</th>\n",
       "      <th>se</th>\n",
       "      <th>T</th>\n",
       "      <th>p-tukey</th>\n",
       "      <th>hedges</th>\n",
       "    </tr>\n",
       "  </thead>\n",
       "  <tbody>\n",
       "    <tr>\n",
       "      <th>0</th>\n",
       "      <td>control/high</td>\n",
       "      <td>control/low</td>\n",
       "      <td>59.970800</td>\n",
       "      <td>20.031575</td>\n",
       "      <td>39.939225</td>\n",
       "      <td>0.065432</td>\n",
       "      <td>610.391461</td>\n",
       "      <td>0.001</td>\n",
       "      <td>6.824282</td>\n",
       "    </tr>\n",
       "    <tr>\n",
       "      <th>1</th>\n",
       "      <td>control/high</td>\n",
       "      <td>test/high</td>\n",
       "      <td>59.970800</td>\n",
       "      <td>69.938500</td>\n",
       "      <td>-9.967700</td>\n",
       "      <td>0.082766</td>\n",
       "      <td>-120.432523</td>\n",
       "      <td>0.001</td>\n",
       "      <td>-1.703109</td>\n",
       "    </tr>\n",
       "    <tr>\n",
       "      <th>2</th>\n",
       "      <td>control/high</td>\n",
       "      <td>test/low</td>\n",
       "      <td>59.970800</td>\n",
       "      <td>33.025925</td>\n",
       "      <td>26.944875</td>\n",
       "      <td>0.065432</td>\n",
       "      <td>411.798717</td>\n",
       "      <td>0.001</td>\n",
       "      <td>4.603981</td>\n",
       "    </tr>\n",
       "    <tr>\n",
       "      <th>3</th>\n",
       "      <td>control/low</td>\n",
       "      <td>test/high</td>\n",
       "      <td>20.031575</td>\n",
       "      <td>69.938500</td>\n",
       "      <td>-49.906925</td>\n",
       "      <td>0.065432</td>\n",
       "      <td>-762.727892</td>\n",
       "      <td>0.001</td>\n",
       "      <td>-8.527429</td>\n",
       "    </tr>\n",
       "    <tr>\n",
       "      <th>4</th>\n",
       "      <td>control/low</td>\n",
       "      <td>test/low</td>\n",
       "      <td>20.031575</td>\n",
       "      <td>33.025925</td>\n",
       "      <td>-12.994350</td>\n",
       "      <td>0.041383</td>\n",
       "      <td>-314.002699</td>\n",
       "      <td>0.001</td>\n",
       "      <td>-2.220314</td>\n",
       "    </tr>\n",
       "    <tr>\n",
       "      <th>5</th>\n",
       "      <td>test/high</td>\n",
       "      <td>test/low</td>\n",
       "      <td>69.938500</td>\n",
       "      <td>33.025925</td>\n",
       "      <td>36.912575</td>\n",
       "      <td>0.065432</td>\n",
       "      <td>564.135148</td>\n",
       "      <td>0.001</td>\n",
       "      <td>6.307128</td>\n",
       "    </tr>\n",
       "  </tbody>\n",
       "</table>\n",
       "</div>"
      ],
      "text/plain": [
       "              A            B    mean(A)    mean(B)       diff        se  \\\n",
       "0  control/high  control/low  59.970800  20.031575  39.939225  0.065432   \n",
       "1  control/high    test/high  59.970800  69.938500  -9.967700  0.082766   \n",
       "2  control/high     test/low  59.970800  33.025925  26.944875  0.065432   \n",
       "3   control/low    test/high  20.031575  69.938500 -49.906925  0.065432   \n",
       "4   control/low     test/low  20.031575  33.025925 -12.994350  0.041383   \n",
       "5     test/high     test/low  69.938500  33.025925  36.912575  0.065432   \n",
       "\n",
       "            T  p-tukey    hedges  \n",
       "0  610.391461    0.001  6.824282  \n",
       "1 -120.432523    0.001 -1.703109  \n",
       "2  411.798717    0.001  4.603981  \n",
       "3 -762.727892    0.001 -8.527429  \n",
       "4 -314.002699    0.001 -2.220314  \n",
       "5  564.135148    0.001  6.307128  "
      ]
     },
     "execution_count": 61,
     "metadata": {},
     "output_type": "execute_result"
    }
   ],
   "source": [
    "pg.pairwise_tukey(data = task_2, dv = 'events', between = 'combination')"
   ]
  },
  {
   "cell_type": "code",
   "execution_count": 62,
   "metadata": {},
   "outputs": [
    {
     "data": {
      "text/plain": [
       "<matplotlib.axes._subplots.AxesSubplot at 0x7f0e48598908>"
      ]
     },
     "execution_count": 62,
     "metadata": {},
     "output_type": "execute_result"
    },
    {
     "data": {
      "image/png": "[encoded data removed]",
      "text/plain": [
       "<Figure size 432x288 with 1 Axes>"
      ]
     },
     "metadata": {
      "needs_background": "light"
     },
     "output_type": "display_data"
    }
   ],
   "source": [
    "sns.pointplot(x=\"group\", y=\"events\", hue=\"segment\", data=task_2, capsize=0.2)"
   ]
  },
  {
   "cell_type": "code",
   "execution_count": 1,
   "metadata": {},
   "outputs": [],
   "source": [
    "from sklearn.datasets import load_boston\n",
    "import pandas as pd\n",
    "import seaborn as sns\n",
    "import numpy as np\n",
    "import scipy.stats\n",
    "%matplotlib inline"
   ]
  },
  {
   "cell_type": "code",
   "execution_count": 2,
   "metadata": {},
   "outputs": [
    {
     "data": {
      "text/html": [
       "<div>\n",
       "<style scoped>\n",
       "    .dataframe tbody tr th:only-of-type {\n",
       "        vertical-align: middle;\n",
       "    }\n",
       "\n",
       "    .dataframe tbody tr th {\n",
       "        vertical-align: top;\n",
       "    }\n",
       "\n",
       "    .dataframe thead th {\n",
       "        text-align: right;\n",
       "    }\n",
       "</style>\n",
       "<table border=\"1\" class=\"dataframe\">\n",
       "  <thead>\n",
       "    <tr style=\"text-align: right;\">\n",
       "      <th></th>\n",
       "      <th>total_bill</th>\n",
       "      <th>tip</th>\n",
       "      <th>sex</th>\n",
       "      <th>smoker</th>\n",
       "      <th>day</th>\n",
       "      <th>time</th>\n",
       "      <th>size</th>\n",
       "    </tr>\n",
       "  </thead>\n",
       "  <tbody>\n",
       "    <tr>\n",
       "      <th>0</th>\n",
       "      <td>16.99</td>\n",
       "      <td>1.01</td>\n",
       "      <td>Female</td>\n",
       "      <td>No</td>\n",
       "      <td>Sun</td>\n",
       "      <td>Dinner</td>\n",
       "      <td>2</td>\n",
       "    </tr>\n",
       "    <tr>\n",
       "      <th>1</th>\n",
       "      <td>10.34</td>\n",
       "      <td>1.66</td>\n",
       "      <td>Male</td>\n",
       "      <td>No</td>\n",
       "      <td>Sun</td>\n",
       "      <td>Dinner</td>\n",
       "      <td>3</td>\n",
       "    </tr>\n",
       "    <tr>\n",
       "      <th>2</th>\n",
       "      <td>21.01</td>\n",
       "      <td>3.50</td>\n",
       "      <td>Male</td>\n",
       "      <td>No</td>\n",
       "      <td>Sun</td>\n",
       "      <td>Dinner</td>\n",
       "      <td>3</td>\n",
       "    </tr>\n",
       "    <tr>\n",
       "      <th>3</th>\n",
       "      <td>23.68</td>\n",
       "      <td>3.31</td>\n",
       "      <td>Male</td>\n",
       "      <td>No</td>\n",
       "      <td>Sun</td>\n",
       "      <td>Dinner</td>\n",
       "      <td>2</td>\n",
       "    </tr>\n",
       "    <tr>\n",
       "      <th>4</th>\n",
       "      <td>24.59</td>\n",
       "      <td>3.61</td>\n",
       "      <td>Female</td>\n",
       "      <td>No</td>\n",
       "      <td>Sun</td>\n",
       "      <td>Dinner</td>\n",
       "      <td>4</td>\n",
       "    </tr>\n",
       "  </tbody>\n",
       "</table>\n",
       "</div>"
      ],
      "text/plain": [
       "   total_bill   tip     sex smoker  day    time  size\n",
       "0       16.99  1.01  Female     No  Sun  Dinner     2\n",
       "1       10.34  1.66    Male     No  Sun  Dinner     3\n",
       "2       21.01  3.50    Male     No  Sun  Dinner     3\n",
       "3       23.68  3.31    Male     No  Sun  Dinner     2\n",
       "4       24.59  3.61  Female     No  Sun  Dinner     4"
      ]
     },
     "execution_count": 2,
     "metadata": {},
     "output_type": "execute_result"
    }
   ],
   "source": [
    "tips = sns.load_dataset(\"tips\")\n",
    "tips.head()"
   ]
  },
  {
   "cell_type": "code",
   "execution_count": 3,
   "metadata": {},
   "outputs": [
    {
     "data": {
      "text/plain": [
       "<matplotlib.axes._subplots.AxesSubplot at 0x7f255f63a390>"
      ]
     },
     "execution_count": 3,
     "metadata": {},
     "output_type": "execute_result"
    },
    {
     "data": {
      "image/png": "[encoded data removed]",
      "text/plain": [
       "<Figure size 432x288 with 1 Axes>"
      ]
     },
     "metadata": {
      "needs_background": "light"
     },
     "output_type": "display_data"
    }
   ],
   "source": [
    "sns.scatterplot(data=tips, x=\"total_bill\", y=\"tip\")"
   ]
  },
  {
   "cell_type": "code",
   "execution_count": 4,
   "metadata": {},
   "outputs": [
    {
     "data": {
      "text/plain": [
       "array([[1.        , 0.67573411],\n",
       "       [0.67573411, 1.        ]])"
      ]
     },
     "execution_count": 4,
     "metadata": {},
     "output_type": "execute_result"
    }
   ],
   "source": [
    "np.corrcoef(tips.total_bill, tips.tip)"
   ]
  },
  {
   "cell_type": "code",
   "execution_count": 5,
   "metadata": {},
   "outputs": [
    {
     "data": {
      "text/plain": [
       "(0.6757341092113646, 6.692470646863191e-34)"
      ]
     },
     "execution_count": 5,
     "metadata": {},
     "output_type": "execute_result"
    }
   ],
   "source": [
    "scipy.stats.pearsonr(tips.total_bill, tips.tip)"
   ]
  },
  {
   "cell_type": "code",
   "execution_count": 6,
   "metadata": {},
   "outputs": [
    {
     "data": {
      "text/plain": [
       "SpearmanrResult(correlation=0.6789681219001009, pvalue=2.501158440923619e-34)"
      ]
     },
     "execution_count": 6,
     "metadata": {},
     "output_type": "execute_result"
    }
   ],
   "source": [
    "scipy.stats.spearmanr(tips.total_bill, tips.tip)"
   ]
  },
  {
   "cell_type": "code",
   "execution_count": null,
   "metadata": {},
   "outputs": [],
   "source": []
  },
  {
   "cell_type": "code",
   "execution_count": 7,
   "metadata": {},
   "outputs": [],
   "source": [
    "boston_dataset = load_boston()\n",
    "boston = pd.DataFrame(boston_dataset.data, columns=boston_dataset.feature_names)"
   ]
  },
  {
   "cell_type": "code",
   "execution_count": 8,
   "metadata": {},
   "outputs": [
    {
     "data": {
      "text/html": [
       "<div>\n",
       "<style scoped>\n",
       "    .dataframe tbody tr th:only-of-type {\n",
       "        vertical-align: middle;\n",
       "    }\n",
       "\n",
       "    .dataframe tbody tr th {\n",
       "        vertical-align: top;\n",
       "    }\n",
       "\n",
       "    .dataframe thead th {\n",
       "        text-align: right;\n",
       "    }\n",
       "</style>\n",
       "<table border=\"1\" class=\"dataframe\">\n",
       "  <thead>\n",
       "    <tr style=\"text-align: right;\">\n",
       "      <th></th>\n",
       "      <th>CRIM</th>\n",
       "      <th>ZN</th>\n",
       "      <th>INDUS</th>\n",
       "      <th>CHAS</th>\n",
       "      <th>NOX</th>\n",
       "      <th>RM</th>\n",
       "      <th>AGE</th>\n",
       "      <th>DIS</th>\n",
       "      <th>RAD</th>\n",
       "      <th>TAX</th>\n",
       "      <th>PTRATIO</th>\n",
       "      <th>B</th>\n",
       "      <th>LSTAT</th>\n",
       "    </tr>\n",
       "  </thead>\n",
       "  <tbody>\n",
       "    <tr>\n",
       "      <th>0</th>\n",
       "      <td>0.00632</td>\n",
       "      <td>18.0</td>\n",
       "      <td>2.31</td>\n",
       "      <td>0.0</td>\n",
       "      <td>0.538</td>\n",
       "      <td>6.575</td>\n",
       "      <td>65.2</td>\n",
       "      <td>4.0900</td>\n",
       "      <td>1.0</td>\n",
       "      <td>296.0</td>\n",
       "      <td>15.3</td>\n",
       "      <td>396.90</td>\n",
       "      <td>4.98</td>\n",
       "    </tr>\n",
       "    <tr>\n",
       "      <th>1</th>\n",
       "      <td>0.02731</td>\n",
       "      <td>0.0</td>\n",
       "      <td>7.07</td>\n",
       "      <td>0.0</td>\n",
       "      <td>0.469</td>\n",
       "      <td>6.421</td>\n",
       "      <td>78.9</td>\n",
       "      <td>4.9671</td>\n",
       "      <td>2.0</td>\n",
       "      <td>242.0</td>\n",
       "      <td>17.8</td>\n",
       "      <td>396.90</td>\n",
       "      <td>9.14</td>\n",
       "    </tr>\n",
       "    <tr>\n",
       "      <th>2</th>\n",
       "      <td>0.02729</td>\n",
       "      <td>0.0</td>\n",
       "      <td>7.07</td>\n",
       "      <td>0.0</td>\n",
       "      <td>0.469</td>\n",
       "      <td>7.185</td>\n",
       "      <td>61.1</td>\n",
       "      <td>4.9671</td>\n",
       "      <td>2.0</td>\n",
       "      <td>242.0</td>\n",
       "      <td>17.8</td>\n",
       "      <td>392.83</td>\n",
       "      <td>4.03</td>\n",
       "    </tr>\n",
       "    <tr>\n",
       "      <th>3</th>\n",
       "      <td>0.03237</td>\n",
       "      <td>0.0</td>\n",
       "      <td>2.18</td>\n",
       "      <td>0.0</td>\n",
       "      <td>0.458</td>\n",
       "      <td>6.998</td>\n",
       "      <td>45.8</td>\n",
       "      <td>6.0622</td>\n",
       "      <td>3.0</td>\n",
       "      <td>222.0</td>\n",
       "      <td>18.7</td>\n",
       "      <td>394.63</td>\n",
       "      <td>2.94</td>\n",
       "    </tr>\n",
       "    <tr>\n",
       "      <th>4</th>\n",
       "      <td>0.06905</td>\n",
       "      <td>0.0</td>\n",
       "      <td>2.18</td>\n",
       "      <td>0.0</td>\n",
       "      <td>0.458</td>\n",
       "      <td>7.147</td>\n",
       "      <td>54.2</td>\n",
       "      <td>6.0622</td>\n",
       "      <td>3.0</td>\n",
       "      <td>222.0</td>\n",
       "      <td>18.7</td>\n",
       "      <td>396.90</td>\n",
       "      <td>5.33</td>\n",
       "    </tr>\n",
       "    <tr>\n",
       "      <th>...</th>\n",
       "      <td>...</td>\n",
       "      <td>...</td>\n",
       "      <td>...</td>\n",
       "      <td>...</td>\n",
       "      <td>...</td>\n",
       "      <td>...</td>\n",
       "      <td>...</td>\n",
       "      <td>...</td>\n",
       "      <td>...</td>\n",
       "      <td>...</td>\n",
       "      <td>...</td>\n",
       "      <td>...</td>\n",
       "      <td>...</td>\n",
       "    </tr>\n",
       "    <tr>\n",
       "      <th>501</th>\n",
       "      <td>0.06263</td>\n",
       "      <td>0.0</td>\n",
       "      <td>11.93</td>\n",
       "      <td>0.0</td>\n",
       "      <td>0.573</td>\n",
       "      <td>6.593</td>\n",
       "      <td>69.1</td>\n",
       "      <td>2.4786</td>\n",
       "      <td>1.0</td>\n",
       "      <td>273.0</td>\n",
       "      <td>21.0</td>\n",
       "      <td>391.99</td>\n",
       "      <td>9.67</td>\n",
       "    </tr>\n",
       "    <tr>\n",
       "      <th>502</th>\n",
       "      <td>0.04527</td>\n",
       "      <td>0.0</td>\n",
       "      <td>11.93</td>\n",
       "      <td>0.0</td>\n",
       "      <td>0.573</td>\n",
       "      <td>6.120</td>\n",
       "      <td>76.7</td>\n",
       "      <td>2.2875</td>\n",
       "      <td>1.0</td>\n",
       "      <td>273.0</td>\n",
       "      <td>21.0</td>\n",
       "      <td>396.90</td>\n",
       "      <td>9.08</td>\n",
       "    </tr>\n",
       "    <tr>\n",
       "      <th>503</th>\n",
       "      <td>0.06076</td>\n",
       "      <td>0.0</td>\n",
       "      <td>11.93</td>\n",
       "      <td>0.0</td>\n",
       "      <td>0.573</td>\n",
       "      <td>6.976</td>\n",
       "      <td>91.0</td>\n",
       "      <td>2.1675</td>\n",
       "      <td>1.0</td>\n",
       "      <td>273.0</td>\n",
       "      <td>21.0</td>\n",
       "      <td>396.90</td>\n",
       "      <td>5.64</td>\n",
       "    </tr>\n",
       "    <tr>\n",
       "      <th>504</th>\n",
       "      <td>0.10959</td>\n",
       "      <td>0.0</td>\n",
       "      <td>11.93</td>\n",
       "      <td>0.0</td>\n",
       "      <td>0.573</td>\n",
       "      <td>6.794</td>\n",
       "      <td>89.3</td>\n",
       "      <td>2.3889</td>\n",
       "      <td>1.0</td>\n",
       "      <td>273.0</td>\n",
       "      <td>21.0</td>\n",
       "      <td>393.45</td>\n",
       "      <td>6.48</td>\n",
       "    </tr>\n",
       "    <tr>\n",
       "      <th>505</th>\n",
       "      <td>0.04741</td>\n",
       "      <td>0.0</td>\n",
       "      <td>11.93</td>\n",
       "      <td>0.0</td>\n",
       "      <td>0.573</td>\n",
       "      <td>6.030</td>\n",
       "      <td>80.8</td>\n",
       "      <td>2.5050</td>\n",
       "      <td>1.0</td>\n",
       "      <td>273.0</td>\n",
       "      <td>21.0</td>\n",
       "      <td>396.90</td>\n",
       "      <td>7.88</td>\n",
       "    </tr>\n",
       "  </tbody>\n",
       "</table>\n",
       "<p>506 rows × 13 columns</p>\n",
       "</div>"
      ],
      "text/plain": [
       "        CRIM    ZN  INDUS  CHAS    NOX     RM   AGE     DIS  RAD    TAX  \\\n",
       "0    0.00632  18.0   2.31   0.0  0.538  6.575  65.2  4.0900  1.0  296.0   \n",
       "1    0.02731   0.0   7.07   0.0  0.469  6.421  78.9  4.9671  2.0  242.0   \n",
       "2    0.02729   0.0   7.07   0.0  0.469  7.185  61.1  4.9671  2.0  242.0   \n",
       "3    0.03237   0.0   2.18   0.0  0.458  6.998  45.8  6.0622  3.0  222.0   \n",
       "4    0.06905   0.0   2.18   0.0  0.458  7.147  54.2  6.0622  3.0  222.0   \n",
       "..       ...   ...    ...   ...    ...    ...   ...     ...  ...    ...   \n",
       "501  0.06263   0.0  11.93   0.0  0.573  6.593  69.1  2.4786  1.0  273.0   \n",
       "502  0.04527   0.0  11.93   0.0  0.573  6.120  76.7  2.2875  1.0  273.0   \n",
       "503  0.06076   0.0  11.93   0.0  0.573  6.976  91.0  2.1675  1.0  273.0   \n",
       "504  0.10959   0.0  11.93   0.0  0.573  6.794  89.3  2.3889  1.0  273.0   \n",
       "505  0.04741   0.0  11.93   0.0  0.573  6.030  80.8  2.5050  1.0  273.0   \n",
       "\n",
       "     PTRATIO       B  LSTAT  \n",
       "0       15.3  396.90   4.98  \n",
       "1       17.8  396.90   9.14  \n",
       "2       17.8  392.83   4.03  \n",
       "3       18.7  394.63   2.94  \n",
       "4       18.7  396.90   5.33  \n",
       "..       ...     ...    ...  \n",
       "501     21.0  391.99   9.67  \n",
       "502     21.0  396.90   9.08  \n",
       "503     21.0  396.90   5.64  \n",
       "504     21.0  393.45   6.48  \n",
       "505     21.0  396.90   7.88  \n",
       "\n",
       "[506 rows x 13 columns]"
      ]
     },
     "execution_count": 8,
     "metadata": {},
     "output_type": "execute_result"
    }
   ],
   "source": [
    "boston"
   ]
  },
  {
   "cell_type": "code",
   "execution_count": 9,
   "metadata": {},
   "outputs": [],
   "source": [
    "boston['CRIM_log'] = np.log(boston.CRIM)"
   ]
  },
  {
   "cell_type": "code",
   "execution_count": 10,
   "metadata": {},
   "outputs": [
    {
     "data": {
      "text/plain": [
       "<matplotlib.axes._subplots.AxesSubplot at 0x7f255f63a358>"
      ]
     },
     "execution_count": 10,
     "metadata": {},
     "output_type": "execute_result"
    },
    {
     "data": {
      "image/png": "[encoded data removed]",
      "text/plain": [
       "<Figure size 432x288 with 1 Axes>"
      ]
     },
     "metadata": {
      "needs_background": "light"
     },
     "output_type": "display_data"
    }
   ],
   "source": [
    "sns.scatterplot(data=boston, x=\"CRIM_log\", y=\"AGE\")"
   ]
  },
  {
   "cell_type": "code",
   "execution_count": 11,
   "metadata": {},
   "outputs": [
    {
     "data": {
      "text/plain": [
       "SpearmanrResult(correlation=0.7041399841460586, pvalue=5.689192531057184e-77)"
      ]
     },
     "execution_count": 11,
     "metadata": {},
     "output_type": "execute_result"
    }
   ],
   "source": [
    "scipy.stats.spearmanr(boston.CRIM_log, boston.AGE)"
   ]
  },
  {
   "cell_type": "code",
   "execution_count": null,
   "metadata": {},
   "outputs": [],
   "source": []
  },
  {
   "cell_type": "code",
   "execution_count": 12,
   "metadata": {},
   "outputs": [
    {
     "data": {
      "text/plain": [
       "<matplotlib.axes._subplots.AxesSubplot at 0x7f255d0379b0>"
      ]
     },
     "execution_count": 12,
     "metadata": {},
     "output_type": "execute_result"
    },
    {
     "data": {
      "image/png": "[encoded data removed]",
      "text/plain": [
       "<Figure size 432x288 with 1 Axes>"
      ]
     },
     "metadata": {
      "needs_background": "light"
     },
     "output_type": "display_data"
    }
   ],
   "source": [
    "sns.scatterplot(data=boston[boston.CRIM < 20], x=\"CRIM\", y=\"AGE\")"
   ]
  },
  {
   "cell_type": "code",
   "execution_count": 13,
   "metadata": {},
   "outputs": [
    {
     "data": {
      "text/plain": [
       "<seaborn.axisgrid.FacetGrid at 0x7f255d0adf60>"
      ]
     },
     "execution_count": 13,
     "metadata": {},
     "output_type": "execute_result"
    },
    {
     "data": {
      "image/png": "[encoded data removed]",
      "text/plain": [
       "<Figure size 360x360 with 1 Axes>"
      ]
     },
     "metadata": {
      "needs_background": "light"
     },
     "output_type": "display_data"
    }
   ],
   "source": [
    "sns.displot(boston.CRIM, kde=False)"
   ]
  },
  {
   "cell_type": "code",
   "execution_count": 14,
   "metadata": {},
   "outputs": [
    {
     "data": {
      "text/plain": [
       "<seaborn.axisgrid.FacetGrid at 0x7f255ce40400>"
      ]
     },
     "execution_count": 14,
     "metadata": {},
     "output_type": "execute_result"
    },
    {
     "data": {
      "image/png": "[encoded data removed]",
      "text/plain": [
       "<Figure size 360x360 with 1 Axes>"
      ]
     },
     "metadata": {
      "needs_background": "light"
     },
     "output_type": "display_data"
    }
   ],
   "source": [
    "sns.displot(np.log(boston.CRIM), kde=False)"
   ]
  },
  {
   "cell_type": "code",
   "execution_count": 16,
   "metadata": {},
   "outputs": [
    {
     "data": {
      "text/plain": [
       "<matplotlib.axes._subplots.AxesSubplot at 0x7f255ce2cba8>"
      ]
     },
     "execution_count": 16,
     "metadata": {},
     "output_type": "execute_result"
    },
    {
     "data": {
      "image/png": "[encoded data removed]",
      "text/plain": [
       "<Figure size 432x288 with 1 Axes>"
      ]
     },
     "metadata": {
      "needs_background": "light"
     },
     "output_type": "display_data"
    }
   ],
   "source": [
    "sns.regplot(data=tips, x=\"total_bill\", y=\"tip\")"
   ]
  },
  {
   "cell_type": "code",
   "execution_count": null,
   "metadata": {},
   "outputs": [],
   "source": []
  },
  {
   "cell_type": "code",
   "execution_count": null,
   "metadata": {},
   "outputs": [],
   "source": []
  },
  {
   "cell_type": "code",
   "execution_count": null,
   "metadata": {},
   "outputs": [],
   "source": []
  },
  {
   "cell_type": "code",
   "execution_count": 17,
   "metadata": {},
   "outputs": [
    {
     "data": {
      "text/plain": [
       "<matplotlib.axes._subplots.AxesSubplot at 0x7f255ce2c710>"
      ]
     },
     "execution_count": 17,
     "metadata": {},
     "output_type": "execute_result"
    },
    {
     "data": {
      "image/png": "[encoded data removed]",
      "text/plain": [
       "<Figure size 432x288 with 1 Axes>"
      ]
     },
     "metadata": {
      "needs_background": "light"
     },
     "output_type": "display_data"
    }
   ],
   "source": [
    "import seaborn as sns\n",
    "sns.scatterplot(x=[4, 5, 2, 3, 1], y=[2, 1, 4, 3, 5])"
   ]
  },
  {
   "cell_type": "code",
   "execution_count": 19,
   "metadata": {},
   "outputs": [
    {
     "data": {
      "text/plain": [
       "(-1.0, 0.0)"
      ]
     },
     "execution_count": 19,
     "metadata": {},
     "output_type": "execute_result"
    }
   ],
   "source": [
    "import scipy.stats as st\n",
    "st.pearsonr(x=[4, 5, 2, 3, 1], y=[2, 1, 4, 3, 5])"
   ]
  },
  {
   "cell_type": "code",
   "execution_count": null,
   "metadata": {},
   "outputs": [],
   "source": []
  },
  {
   "cell_type": "code",
   "execution_count": 1,
   "metadata": {},
   "outputs": [],
   "source": [
    "from scipy.stats import bootstrap\n",
    "import pandas as pd \n",
    "import numpy as np\n",
    "import seaborn as sns "
   ]
  },
  {
   "cell_type": "code",
   "execution_count": 2,
   "metadata": {},
   "outputs": [
    {
     "data": {
      "text/html": [
       "<div>\n",
       "<style scoped>\n",
       "    .dataframe tbody tr th:only-of-type {\n",
       "        vertical-align: middle;\n",
       "    }\n",
       "\n",
       "    .dataframe tbody tr th {\n",
       "        vertical-align: top;\n",
       "    }\n",
       "\n",
       "    .dataframe thead th {\n",
       "        text-align: right;\n",
       "    }\n",
       "</style>\n",
       "<table border=\"1\" class=\"dataframe\">\n",
       "  <thead>\n",
       "    <tr style=\"text-align: right;\">\n",
       "      <th></th>\n",
       "      <th>value</th>\n",
       "      <th>group</th>\n",
       "    </tr>\n",
       "  </thead>\n",
       "  <tbody>\n",
       "    <tr>\n",
       "      <th>0</th>\n",
       "      <td>100.719713</td>\n",
       "      <td>experimental</td>\n",
       "    </tr>\n",
       "    <tr>\n",
       "      <th>1</th>\n",
       "      <td>106.771525</td>\n",
       "      <td>experimental</td>\n",
       "    </tr>\n",
       "    <tr>\n",
       "      <th>2</th>\n",
       "      <td>106.974612</td>\n",
       "      <td>experimental</td>\n",
       "    </tr>\n",
       "    <tr>\n",
       "      <th>3</th>\n",
       "      <td>109.249662</td>\n",
       "      <td>experimental</td>\n",
       "    </tr>\n",
       "    <tr>\n",
       "      <th>4</th>\n",
       "      <td>116.230142</td>\n",
       "      <td>experimental</td>\n",
       "    </tr>\n",
       "    <tr>\n",
       "      <th>...</th>\n",
       "      <td>...</td>\n",
       "      <td>...</td>\n",
       "    </tr>\n",
       "    <tr>\n",
       "      <th>1249</th>\n",
       "      <td>155.091593</td>\n",
       "      <td>control</td>\n",
       "    </tr>\n",
       "    <tr>\n",
       "      <th>1250</th>\n",
       "      <td>147.363316</td>\n",
       "      <td>control</td>\n",
       "    </tr>\n",
       "    <tr>\n",
       "      <th>1251</th>\n",
       "      <td>129.780424</td>\n",
       "      <td>control</td>\n",
       "    </tr>\n",
       "    <tr>\n",
       "      <th>1252</th>\n",
       "      <td>158.120499</td>\n",
       "      <td>control</td>\n",
       "    </tr>\n",
       "    <tr>\n",
       "      <th>1253</th>\n",
       "      <td>156.086355</td>\n",
       "      <td>control</td>\n",
       "    </tr>\n",
       "  </tbody>\n",
       "</table>\n",
       "<p>1254 rows × 2 columns</p>\n",
       "</div>"
      ],
      "text/plain": [
       "           value         group\n",
       "0     100.719713  experimental\n",
       "1     106.771525  experimental\n",
       "2     106.974612  experimental\n",
       "3     109.249662  experimental\n",
       "4     116.230142  experimental\n",
       "...          ...           ...\n",
       "1249  155.091593       control\n",
       "1250  147.363316       control\n",
       "1251  129.780424       control\n",
       "1252  158.120499       control\n",
       "1253  156.086355       control\n",
       "\n",
       "[1254 rows x 2 columns]"
      ]
     },
     "execution_count": 2,
     "metadata": {},
     "output_type": "execute_result"
    }
   ],
   "source": [
    "df = pd.read_csv('/mnt/HC_Volume_18315164/home-jupyter/jupyter-daniil-kljuvak-pcp-fbf69/7YROKPROGECT/bootstrap_data.csv')\n",
    "df"
   ]
  },
  {
   "cell_type": "code",
   "execution_count": 3,
   "metadata": {},
   "outputs": [
    {
     "data": {
      "text/html": [
       "<div>\n",
       "<style scoped>\n",
       "    .dataframe tbody tr th:only-of-type {\n",
       "        vertical-align: middle;\n",
       "    }\n",
       "\n",
       "    .dataframe tbody tr th {\n",
       "        vertical-align: top;\n",
       "    }\n",
       "\n",
       "    .dataframe thead th {\n",
       "        text-align: right;\n",
       "    }\n",
       "</style>\n",
       "<table border=\"1\" class=\"dataframe\">\n",
       "  <thead>\n",
       "    <tr style=\"text-align: right;\">\n",
       "      <th></th>\n",
       "      <th>value</th>\n",
       "    </tr>\n",
       "    <tr>\n",
       "      <th>group</th>\n",
       "      <th></th>\n",
       "    </tr>\n",
       "  </thead>\n",
       "  <tbody>\n",
       "    <tr>\n",
       "      <th>control</th>\n",
       "      <td>760</td>\n",
       "    </tr>\n",
       "    <tr>\n",
       "      <th>experimental</th>\n",
       "      <td>494</td>\n",
       "    </tr>\n",
       "  </tbody>\n",
       "</table>\n",
       "</div>"
      ],
      "text/plain": [
       "              value\n",
       "group              \n",
       "control         760\n",
       "experimental    494"
      ]
     },
     "execution_count": 3,
     "metadata": {},
     "output_type": "execute_result"
    }
   ],
   "source": [
    "df.groupby('group').agg({'value': 'count'})"
   ]
  },
  {
   "cell_type": "code",
   "execution_count": 4,
   "metadata": {},
   "outputs": [
    {
     "data": {
      "text/plain": [
       "<seaborn.axisgrid.FacetGrid at 0x7f8e65156668>"
      ]
     },
     "execution_count": 4,
     "metadata": {},
     "output_type": "execute_result"
    },
    {
     "data": {
      "image/png": "[encoded data removed]",
      "text/plain": [
       "<Figure size 462.25x360 with 1 Axes>"
      ]
     },
     "metadata": {
      "needs_background": "light"
     },
     "output_type": "display_data"
    }
   ],
   "source": [
    "sns.displot(data=df, x='value', hue='group')"
   ]
  },
  {
   "cell_type": "code",
   "execution_count": 5,
   "metadata": {},
   "outputs": [
    {
     "data": {
      "text/html": [
       "<div>\n",
       "<style scoped>\n",
       "    .dataframe tbody tr th:only-of-type {\n",
       "        vertical-align: middle;\n",
       "    }\n",
       "\n",
       "    .dataframe tbody tr th {\n",
       "        vertical-align: top;\n",
       "    }\n",
       "\n",
       "    .dataframe thead th {\n",
       "        text-align: right;\n",
       "    }\n",
       "</style>\n",
       "<table border=\"1\" class=\"dataframe\">\n",
       "  <thead>\n",
       "    <tr style=\"text-align: right;\">\n",
       "      <th></th>\n",
       "      <th>value</th>\n",
       "    </tr>\n",
       "    <tr>\n",
       "      <th>group</th>\n",
       "      <th></th>\n",
       "    </tr>\n",
       "  </thead>\n",
       "  <tbody>\n",
       "    <tr>\n",
       "      <th>control</th>\n",
       "      <td>148.832127</td>\n",
       "    </tr>\n",
       "    <tr>\n",
       "      <th>experimental</th>\n",
       "      <td>106.982597</td>\n",
       "    </tr>\n",
       "  </tbody>\n",
       "</table>\n",
       "</div>"
      ],
      "text/plain": [
       "                   value\n",
       "group                   \n",
       "control       148.832127\n",
       "experimental  106.982597"
      ]
     },
     "execution_count": 5,
     "metadata": {},
     "output_type": "execute_result"
    }
   ],
   "source": [
    "df.groupby('group').agg({'value': np.median})"
   ]
  },
  {
   "cell_type": "code",
   "execution_count": 12,
   "metadata": {},
   "outputs": [
    {
     "data": {
      "text/plain": [
       "<seaborn.axisgrid.FacetGrid at 0x7f8e0b7267f0>"
      ]
     },
     "execution_count": 12,
     "metadata": {},
     "output_type": "execute_result"
    },
    {
     "data": {
      "image/png": "[encoded data removed]",
      "text/plain": [
       "<Figure size 360x360 with 1 Axes>"
      ]
     },
     "metadata": {
      "needs_background": "light"
     },
     "output_type": "display_data"
    }
   ],
   "source": [
    "sns.displot(data=df[df.group == 'control'], x='value')"
   ]
  },
  {
   "cell_type": "code",
   "execution_count": 7,
   "metadata": {},
   "outputs": [],
   "source": [
    "control_df = df[df.group == 'control']"
   ]
  },
  {
   "cell_type": "code",
   "execution_count": 8,
   "metadata": {},
   "outputs": [
    {
     "data": {
      "text/plain": [
       "148.83212650911054"
      ]
     },
     "execution_count": 8,
     "metadata": {},
     "output_type": "execute_result"
    }
   ],
   "source": [
    "control_df.value.median()"
   ]
  },
  {
   "cell_type": "code",
   "execution_count": null,
   "metadata": {},
   "outputs": [],
   "source": []
  },
  {
   "cell_type": "code",
   "execution_count": 15,
   "metadata": {},
   "outputs": [],
   "source": [
    "sample_df = control_df.sample(frac=1, replace=True)"
   ]
  },
  {
   "cell_type": "code",
   "execution_count": 18,
   "metadata": {},
   "outputs": [
    {
     "data": {
      "text/plain": [
       "<seaborn.axisgrid.FacetGrid at 0x7f8e0b616198>"
      ]
     },
     "execution_count": 18,
     "metadata": {},
     "output_type": "execute_result"
    },
    {
     "data": {
      "image/png": "[encoded data removed]",
      "text/plain": [
       "<Figure size 360x360 with 1 Axes>"
      ]
     },
     "metadata": {
      "needs_background": "light"
     },
     "output_type": "display_data"
    }
   ],
   "source": [
    "sns.displot(data=sample_df, x='value')"
   ]
  },
  {
   "cell_type": "code",
   "execution_count": 26,
   "metadata": {},
   "outputs": [],
   "source": [
    "medians = []"
   ]
  },
  {
   "cell_type": "code",
   "execution_count": 27,
   "metadata": {},
   "outputs": [],
   "source": [
    "n = 10000"
   ]
  },
  {
   "cell_type": "code",
   "execution_count": 28,
   "metadata": {},
   "outputs": [],
   "source": [
    "for i in range(10000):\n",
    "    sample_data = control_df.sample(frac=1, replace=True)#прогоним 10 000 раз эту выборку с повторениями\n",
    "    sample_median = sample_data.value.median()#посчитаем медиану\n",
    "    medians.append(sample_median)#и добавим медиану в наш лист который мы создали"
   ]
  },
  {
   "cell_type": "code",
   "execution_count": 29,
   "metadata": {},
   "outputs": [
    {
     "data": {
      "text/plain": [
       "<seaborn.axisgrid.FacetGrid at 0x7f8e08e16cc0>"
      ]
     },
     "execution_count": 29,
     "metadata": {},
     "output_type": "execute_result"
    },
    {
     "data": {
      "image/png": "[encoded data removed]",
      "text/plain": [
       "<Figure size 360x360 with 1 Axes>"
      ]
     },
     "metadata": {
      "needs_background": "light"
     },
     "output_type": "display_data"
    }
   ],
   "source": [
    "sns.displot(medians)"
   ]
  },
  {
   "cell_type": "code",
   "execution_count": 30,
   "metadata": {},
   "outputs": [
    {
     "data": {
      "text/plain": [
       "[148.04144958256046,\n",
       " 147.3375550342118,\n",
       " 150.26500311195073,\n",
       " 149.61441442339904,\n",
       " 150.74580151060346,\n",
       " 148.50287355056048,\n",
       " 148.82774149731117,\n",
       " 148.50287355056048,\n",
       " 149.73022005669074,\n",
       " 152.63602596263445,\n",
       " 149.42935835643598,\n",
       " 146.43089767166344,\n",
       " 149.94358988308923,\n",
       " 148.04144958256046,\n",
       " 149.75950378048185,\n",
       " 150.47478513879446,\n",
       " 148.82575897694997,\n",
       " 148.64837246075874,\n",
       " 149.27412444251485,\n",
       " 149.42935835643598,\n",
       " 147.36331605147197,\n",
       " 147.36331605147197,\n",
       " 149.43265413917985,\n",
       " 148.34527566747275,\n",
       " 149.906445616996,\n",
       " 147.9028991624189,\n",
       " 147.45942229036717,\n",
       " 147.3411611380775,\n",
       " 150.26500311195073,\n",
       " 149.02749617099892,\n",
       " 148.57811309188975,\n",
       " 148.50287355056048,\n",
       " 148.83849404127113,\n",
       " 149.85178548134394,\n",
       " 148.44124837951412,\n",
       " 149.71027253242235,\n",
       " 150.2370798861362,\n",
       " 148.50287355056048,\n",
       " 150.36883566048482,\n",
       " 146.7484955596712,\n",
       " 149.92095997706303,\n",
       " 149.92095997706303,\n",
       " 149.42394585264532,\n",
       " 147.7333888465211,\n",
       " 147.7333888465211,\n",
       " 148.98329774968744,\n",
       " 147.9916843994328,\n",
       " 148.74897211094242,\n",
       " 149.61441442339904,\n",
       " 148.755339643103,\n",
       " 148.91089589547929,\n",
       " 148.5431656733117,\n",
       " 147.3411611380775,\n",
       " 147.94333894477228,\n",
       " 149.49320018202803,\n",
       " 147.2781102542786,\n",
       " 148.82575897694997,\n",
       " 150.25582271875606,\n",
       " 149.11977475312085,\n",
       " 149.11977475312085,\n",
       " 150.04526625394766,\n",
       " 148.64837246075874,\n",
       " 149.02749617099892,\n",
       " 150.49102899540824,\n",
       " 149.92095997706303,\n",
       " 148.47382115146968,\n",
       " 148.47206096503731,\n",
       " 148.47382115146968,\n",
       " 149.6258513738624,\n",
       " 149.29414548041441,\n",
       " 149.8146412152507,\n",
       " 148.57811309188975,\n",
       " 149.06954624037138,\n",
       " 148.47206096503731,\n",
       " 149.92095997706303,\n",
       " 149.06954624037138,\n",
       " 149.02749617099892,\n",
       " 150.4585412821807,\n",
       " 147.86693933699087,\n",
       " 149.42606257369212,\n",
       " 149.50463713249138,\n",
       " 148.74897211094242,\n",
       " 148.22070828853515,\n",
       " 149.9712582464325,\n",
       " 148.34527566747275,\n",
       " 149.48990439928417,\n",
       " 149.06954624037138,\n",
       " 148.52477979836848,\n",
       " 149.946336388924,\n",
       " 149.56518317533954,\n",
       " 150.25582271875606,\n",
       " 147.50663574522645,\n",
       " 149.43265413917985,\n",
       " 147.36331605147197,\n",
       " 148.7251593267663,\n",
       " 150.487387757617,\n",
       " 149.3400829891537,\n",
       " 149.73022005669074,\n",
       " 149.27412444251485,\n",
       " 150.50363161423078,\n",
       " 149.5766201258029,\n",
       " 149.88106920513505,\n",
       " 148.83849404127113,\n",
       " 148.52477979836848,\n",
       " 149.42935835643598,\n",
       " 149.56518317533954,\n",
       " 146.539149984841,\n",
       " 148.55796703051413,\n",
       " 148.83212650911054,\n",
       " 148.1921136216389,\n",
       " 147.26472787501888,\n",
       " 147.94333894477228,\n",
       " 151.50598698905057,\n",
       " 148.83212650911054,\n",
       " 146.51927603317773,\n",
       " 149.36010402705327,\n",
       " 146.53833531060027,\n",
       " 149.7853574914596,\n",
       " 146.981315833189,\n",
       " 148.49220702641293,\n",
       " 149.29414548041441,\n",
       " 148.64837246075874,\n",
       " 149.61441442339904,\n",
       " 148.50287355056048,\n",
       " 151.1625913863246,\n",
       " 148.24930295543138,\n",
       " 149.75950378048185,\n",
       " 150.76109074521094,\n",
       " 150.12032575780512,\n",
       " 148.04734926795294,\n",
       " 149.49320018202803,\n",
       " 149.73022005669074,\n",
       " 147.9388589878469,\n",
       " 149.9712582464325,\n",
       " 149.9237064828978,\n",
       " 147.36469420904388,\n",
       " 147.9916843994328,\n",
       " 149.06954624037138,\n",
       " 149.56518317533954,\n",
       " 148.50287355056048,\n",
       " 147.59983835605132,\n",
       " 150.2466423255614,\n",
       " 147.9916843994328,\n",
       " 150.2466423255614,\n",
       " 147.9916843994328,\n",
       " 149.3400829891537,\n",
       " 148.47382115146968,\n",
       " 147.4103821934047,\n",
       " 147.99310412789993,\n",
       " 148.83212650911054,\n",
       " 148.83849404127113,\n",
       " 148.1753626905959,\n",
       " 147.94333894477228,\n",
       " 148.83849404127113,\n",
       " 148.50639392342526,\n",
       " 146.52839833476864,\n",
       " 148.64837246075874,\n",
       " 147.9028991624189,\n",
       " 149.88106920513505,\n",
       " 148.50287355056048,\n",
       " 149.42394585264532,\n",
       " 151.04647076061195,\n",
       " 150.49102899540824,\n",
       " 149.56518317533954,\n",
       " 150.80752811450282,\n",
       " 149.75950378048185,\n",
       " 149.8146412152507,\n",
       " 148.5230196119361,\n",
       " 147.55323705063887,\n",
       " 149.96896629495018,\n",
       " 148.90452836331872,\n",
       " 148.64837246075874,\n",
       " 148.58386267494714,\n",
       " 147.2781102542786,\n",
       " 148.6188100935252,\n",
       " 148.5431656733117,\n",
       " 150.7937987582663,\n",
       " 147.29186704985096,\n",
       " 148.50639392342526,\n",
       " 148.34527566747275,\n",
       " 147.9388589878469,\n",
       " 149.27412444251485,\n",
       " 146.53833531060027,\n",
       " 148.62455967658258,\n",
       " 147.9916843994328,\n",
       " 149.9237064828978,\n",
       " 148.98437192565694,\n",
       " 148.73152685892686,\n",
       " 148.1921136216389,\n",
       " 150.00711627444892,\n",
       " 149.49320018202803,\n",
       " 146.6661656921323,\n",
       " 148.52477979836848,\n",
       " 147.9916843994328,\n",
       " 148.29655087504273,\n",
       " 147.23721428387415,\n",
       " 149.27412444251485,\n",
       " 147.9388589878469,\n",
       " 148.50287355056048,\n",
       " 150.00711627444892,\n",
       " 146.58959105483535,\n",
       " 148.6721852449349,\n",
       " 147.3411611380775,\n",
       " 149.27412444251485,\n",
       " 150.1953852616626,\n",
       " 148.50463373699287,\n",
       " 149.26959616325132,\n",
       " 148.1753626905959,\n",
       " 149.946336388924,\n",
       " 147.29186704985096,\n",
       " 150.1953852616626,\n",
       " 148.50639392342526,\n",
       " 147.9028991624189,\n",
       " 150.80752811450282,\n",
       " 147.4103821934047,\n",
       " 149.49320018202803,\n",
       " 150.00940822593122,\n",
       " 148.50639392342526,\n",
       " 149.88106920513505,\n",
       " 147.23721428387415,\n",
       " 151.3697120343171,\n",
       " 149.29414548041441,\n",
       " 149.5537462248762,\n",
       " 149.92095997706303,\n",
       " 146.69297196606686,\n",
       " 149.73022005669074,\n",
       " 148.50287355056048,\n",
       " 150.00711627444892,\n",
       " 148.24930295543138,\n",
       " 147.25097107944651,\n",
       " 149.42935835643598,\n",
       " 147.9916843994328,\n",
       " 148.24930295543138,\n",
       " 148.7251593267663,\n",
       " 148.91089589547929,\n",
       " 149.9712582464325,\n",
       " 148.5230196119361,\n",
       " 149.9712582464325,\n",
       " 149.27412444251485,\n",
       " 149.3400829891537,\n",
       " 147.50663574522645,\n",
       " 148.47382115146968,\n",
       " 149.49320018202803,\n",
       " 150.00940822593122,\n",
       " 148.1552325650621,\n",
       " 147.9916843994328,\n",
       " 146.62622329432105,\n",
       " 150.77637997981842,\n",
       " 148.74897211094242,\n",
       " 148.83212650911054,\n",
       " 150.39061867250203,\n",
       " 148.7251593267663,\n",
       " 148.82575897694997,\n",
       " 148.1921136216389,\n",
       " 151.4260018050141,\n",
       " 147.36331605147197,\n",
       " 148.20395735749213,\n",
       " 148.04144958256046,\n",
       " 148.6188100935252,\n",
       " 151.03976936592815,\n",
       " 149.9712582464325,\n",
       " 148.6188100935252,\n",
       " 146.53833531060027,\n",
       " 150.1953852616626,\n",
       " 148.62455967658258,\n",
       " 147.7333888465211,\n",
       " 148.98329774968744,\n",
       " 149.5766201258029,\n",
       " 148.61306051046782,\n",
       " 148.09708082836045,\n",
       " 151.03976936592815,\n",
       " 148.035549897168,\n",
       " 147.94333894477228,\n",
       " 150.00940822593122,\n",
       " 150.04526625394766,\n",
       " 149.5537462248762,\n",
       " 149.85178548134394,\n",
       " 148.98329774968744,\n",
       " 148.34527566747275,\n",
       " 149.56518317533954,\n",
       " 148.37608825299594,\n",
       " 148.62455967658258,\n",
       " 149.42935835643598,\n",
       " 147.94333894477228,\n",
       " 148.24930295543138,\n",
       " 146.64209234393445,\n",
       " 149.50463713249138,\n",
       " 148.83849404127113,\n",
       " 149.02749617099892,\n",
       " 146.39724683978753,\n",
       " 148.50463373699287,\n",
       " 147.25097107944651,\n",
       " 148.98437192565694,\n",
       " 148.98544610162642,\n",
       " 149.16182482249332,\n",
       " 149.5537462248762,\n",
       " 152.05737287796856,\n",
       " 147.38684912243832,\n",
       " 147.9388589878469,\n",
       " 147.9975840848253,\n",
       " 148.24930295543138,\n",
       " 149.6750826219219,\n",
       " 148.83212650911054,\n",
       " 148.58386267494714,\n",
       " 148.98437192565694,\n",
       " 148.98544610162642,\n",
       " 148.09370163386967,\n",
       " 148.50287355056048,\n",
       " 148.50287355056048,\n",
       " 149.7853574914596,\n",
       " 148.1518533705713,\n",
       " 149.1818458603929,\n",
       " 146.6979037913591,\n",
       " 150.77637997981842,\n",
       " 148.64262287770134,\n",
       " 149.48990439928417,\n",
       " 149.8439249390418,\n",
       " 146.69297196606686,\n",
       " 149.25410340461525,\n",
       " 151.3697120343171,\n",
       " 149.27412444251485,\n",
       " 147.98720444250745,\n",
       " 148.34527566747275,\n",
       " 148.98437192565694,\n",
       " 148.1921136216389,\n",
       " 149.9237064828978,\n",
       " 150.487387757617,\n",
       " 148.22070828853515,\n",
       " 146.67710291645346,\n",
       " 150.14117307004193,\n",
       " 148.1753626905959,\n",
       " 150.12032575780512,\n",
       " 148.6188100935252,\n",
       " 148.82575897694997,\n",
       " 149.36339980979713,\n",
       " 149.906445616996,\n",
       " 149.75950378048185,\n",
       " 149.43265413917985,\n",
       " 149.92095997706303,\n",
       " 150.00940822593122,\n",
       " 148.37608825299594,\n",
       " 149.29414548041441,\n",
       " 149.02749617099892,\n",
       " 147.23721428387415,\n",
       " 148.61306051046782,\n",
       " 149.91821347122828,\n",
       " 147.55323705063887,\n",
       " 150.2370798861362,\n",
       " 149.68098880863124,\n",
       " 149.25410340461525,\n",
       " 150.2466423255614,\n",
       " 148.98544610162642,\n",
       " 147.4349758983492,\n",
       " 148.98437192565694,\n",
       " 152.2060168865596,\n",
       " 149.11977475312085,\n",
       " 147.0181508059287,\n",
       " 149.946336388924,\n",
       " 149.96896629495018,\n",
       " 148.57811309188975,\n",
       " 149.42935835643598,\n",
       " 147.86693933699087,\n",
       " 148.58386267494714,\n",
       " 148.91197007144876,\n",
       " 147.4103821934047,\n",
       " 150.2162325738994,\n",
       " 150.3617721970657,\n",
       " 147.9028991624189,\n",
       " 147.59983835605132,\n",
       " 147.45850896931557,\n",
       " 146.4411355126552,\n",
       " 148.1753626905959,\n",
       " 148.98437192565694,\n",
       " 147.50663574522645,\n",
       " 147.86693933699087,\n",
       " 147.55323705063887,\n",
       " 149.02749617099892,\n",
       " 147.4103821934047,\n",
       " 149.43265413917985,\n",
       " 149.27412444251485,\n",
       " 148.98544610162642,\n",
       " 149.6750826219219,\n",
       " 149.11977475312085,\n",
       " 149.43265413917985,\n",
       " 149.5537462248762,\n",
       " 148.91089589547929,\n",
       " 150.2370798861362,\n",
       " 150.1953852616626,\n",
       " 147.0181508059287,\n",
       " 148.61306051046782,\n",
       " 147.9916843994328,\n",
       " 150.76109074521094,\n",
       " 148.24930295543138,\n",
       " 149.42606257369212,\n",
       " 147.94781890169762,\n",
       " 146.3434294318744,\n",
       " 149.42606257369212,\n",
       " 148.1586117595529,\n",
       " 149.88106920513505,\n",
       " 147.59983835605132,\n",
       " 146.69297196606686,\n",
       " 148.09960131926212,\n",
       " 149.02749617099892,\n",
       " 149.29414548041441,\n",
       " 150.0821757783064,\n",
       " 148.50463373699287,\n",
       " 150.49102899540824,\n",
       " 150.12032575780512,\n",
       " 147.83262375238968,\n",
       " 148.98437192565694,\n",
       " 148.98329774968744,\n",
       " 148.83849404127113,\n",
       " 148.19453364060587,\n",
       " 148.34527566747275,\n",
       " 149.25410340461525,\n",
       " 148.50287355056048,\n",
       " 148.61306051046782,\n",
       " 149.29414548041441,\n",
       " 148.74897211094242,\n",
       " 148.1753626905959,\n",
       " 149.92095997706303,\n",
       " 149.43265413917985,\n",
       " 148.5431656733117,\n",
       " 148.82575897694997,\n",
       " 149.16182482249332,\n",
       " 148.61306051046782,\n",
       " 148.95402014082126,\n",
       " 147.23721428387415,\n",
       " 149.68098880863124,\n",
       " 148.47206096503731,\n",
       " 147.36331605147197,\n",
       " 148.1921136216389,\n",
       " 150.2370798861362,\n",
       " 152.41637362027097,\n",
       " 148.04734926795294,\n",
       " 147.7693486719491,\n",
       " 149.11870057715134,\n",
       " 148.58386267494714,\n",
       " 148.80500288910451,\n",
       " 149.56518317533954,\n",
       " 148.1586117595529,\n",
       " 150.9589669447004,\n",
       " 148.98329774968744,\n",
       " 149.1818458603929,\n",
       " 148.50639392342526,\n",
       " 147.94781890169762,\n",
       " 149.56518317533954,\n",
       " 148.61306051046782,\n",
       " 149.9712582464325,\n",
       " 148.64262287770134,\n",
       " 147.94781890169762,\n",
       " 149.8545319871787,\n",
       " 149.29414548041441,\n",
       " 148.1753626905959,\n",
       " 149.43265413917985,\n",
       " 148.98329774968744,\n",
       " 150.64630710643587,\n",
       " 149.96896629495018,\n",
       " 148.47382115146968,\n",
       " 148.6188100935252,\n",
       " 148.24930295543138,\n",
       " 148.44124837951412,\n",
       " 148.44124837951412,\n",
       " 149.73022005669074,\n",
       " 150.3617721970657,\n",
       " 148.09960131926212,\n",
       " 150.47478513879446,\n",
       " 148.1753626905959,\n",
       " 149.11977475312085,\n",
       " 150.12032575780512,\n",
       " 149.73022005669074,\n",
       " 149.42935835643598,\n",
       " 150.35259180387106,\n",
       " 147.38684912243832,\n",
       " 148.83212650911054,\n",
       " 150.6310178718284,\n",
       " 149.48990439928417,\n",
       " 148.91197007144876,\n",
       " 148.6188100935252,\n",
       " 148.83849404127113,\n",
       " 149.42606257369212,\n",
       " 150.00940822593122,\n",
       " 148.98437192565694,\n",
       " 148.47206096503731,\n",
       " 149.43265413917985,\n",
       " 148.4311817329496,\n",
       " 149.42606257369212,\n",
       " 150.2466423255614,\n",
       " 148.98329774968744,\n",
       " 149.5766201258029,\n",
       " 149.5766201258029,\n",
       " 147.9028991624189,\n",
       " 148.6188100935252,\n",
       " 148.50639392342526,\n",
       " 149.97355019791482,\n",
       " 147.95124461707945,\n",
       " 147.45850896931557,\n",
       " 148.83849404127113,\n",
       " 148.55972721694656,\n",
       " 149.29414548041441,\n",
       " 146.67710291645346,\n",
       " 146.6979037913591,\n",
       " 147.99310412789993,\n",
       " 148.90452836331872,\n",
       " 149.42606257369212,\n",
       " 149.0462987229432,\n",
       " 149.88106920513505,\n",
       " 149.6750826219219,\n",
       " 148.55972721694656,\n",
       " 149.0264219950294,\n",
       " 148.6721852449349,\n",
       " 146.7990873279833,\n",
       " 149.06954624037138,\n",
       " 148.50463373699287,\n",
       " 149.8439249390418,\n",
       " 150.04526625394766,\n",
       " 148.09960131926212,\n",
       " 146.5862808965098,\n",
       " 148.50463373699287,\n",
       " 148.52477979836848,\n",
       " 149.06954624037138,\n",
       " 148.57811309188975,\n",
       " 148.98544610162642,\n",
       " 148.22070828853515,\n",
       " 148.91089589547929,\n",
       " 149.9237064828978,\n",
       " 148.37608825299594,\n",
       " 149.50463713249138,\n",
       " 149.0264219950294,\n",
       " 146.67710291645346,\n",
       " 148.47206096503731,\n",
       " 148.24930295543138,\n",
       " 148.64837246075874,\n",
       " 148.50463373699287,\n",
       " 149.946336388924,\n",
       " 150.12032575780512,\n",
       " 148.09370163386967,\n",
       " 150.36883566048482,\n",
       " 148.1586117595529,\n",
       " 148.98329774968744,\n",
       " 150.51623423305332,\n",
       " 150.3617721970657,\n",
       " 148.98329774968744,\n",
       " 148.43693131600696,\n",
       " 147.90737911934423,\n",
       " 148.74897211094242,\n",
       " 148.04144958256046,\n",
       " 149.85178548134394,\n",
       " 149.92095997706303,\n",
       " 150.25582271875606,\n",
       " 149.94358988308923,\n",
       " 148.83212650911054,\n",
       " 148.98437192565694,\n",
       " 148.74897211094242,\n",
       " 148.64262287770134,\n",
       " 149.36339980979713,\n",
       " 150.0821757783064,\n",
       " 148.91089589547929,\n",
       " 147.94333894477228,\n",
       " 149.56518317533954,\n",
       " 149.11977475312085,\n",
       " 148.1921136216389,\n",
       " 148.55796703051413,\n",
       " 149.7853574914596,\n",
       " 147.72722732346205,\n",
       " 150.7937987582663,\n",
       " 146.46738373807352,\n",
       " 150.25582271875606,\n",
       " 149.6750826219219,\n",
       " 148.04734926795294,\n",
       " 147.94781890169762,\n",
       " 149.49320018202803,\n",
       " 148.47206096503731,\n",
       " 149.946336388924,\n",
       " 150.2370798861362,\n",
       " 147.55323705063887,\n",
       " 147.36331605147197,\n",
       " 148.83849404127113,\n",
       " 147.92457065574135,\n",
       " 148.44124837951412,\n",
       " 149.1818458603929,\n",
       " 148.47382115146968,\n",
       " 148.31668100057652,\n",
       " 148.6721852449349,\n",
       " 148.37608825299594,\n",
       " 147.4103821934047,\n",
       " 148.91089589547929,\n",
       " 148.24930295543138,\n",
       " 148.20395735749213,\n",
       " 147.36331605147197,\n",
       " 148.1518533705713,\n",
       " 148.7251593267663,\n",
       " 149.42935835643598,\n",
       " 149.27412444251485,\n",
       " 148.47382115146968,\n",
       " 148.22070828853515,\n",
       " 148.035549897168,\n",
       " 148.6188100935252,\n",
       " 147.36469420904388,\n",
       " 149.42935835643598,\n",
       " 148.04144958256046,\n",
       " 148.87086574265314,\n",
       " 148.44124837951412,\n",
       " 147.45850896931557,\n",
       " 148.6721852449349,\n",
       " 148.22070828853515,\n",
       " 147.95124461707945,\n",
       " 149.29414548041441,\n",
       " 147.45850896931557,\n",
       " 147.29186704985096,\n",
       " 149.16182482249332,\n",
       " 148.1921136216389,\n",
       " 147.9028991624189,\n",
       " 149.6750826219219,\n",
       " 149.6258513738624,\n",
       " 148.91089589547929,\n",
       " 148.74897211094242,\n",
       " 148.24930295543138,\n",
       " 148.98329774968744,\n",
       " 149.11977475312085,\n",
       " 146.6979037913591,\n",
       " 148.04734926795294,\n",
       " 149.6258513738624,\n",
       " 148.64837246075874,\n",
       " 149.36010402705327,\n",
       " 146.69297196606686,\n",
       " 149.8439249390418,\n",
       " 150.2370798861362,\n",
       " 148.04144958256046,\n",
       " 147.29186704985096,\n",
       " 149.25410340461525,\n",
       " 148.22070828853515,\n",
       " 148.83212650911054,\n",
       " 147.36469420904388,\n",
       " 148.83212650911054,\n",
       " 149.946336388924,\n",
       " 148.20395735749213,\n",
       " 148.90452836331872,\n",
       " 148.98329774968744,\n",
       " 150.14117307004193,\n",
       " 148.1719834961051,\n",
       " 148.22070828853515,\n",
       " 148.98329774968744,\n",
       " 148.29655087504273,\n",
       " 148.035549897168,\n",
       " 150.47478513879446,\n",
       " 148.50463373699287,\n",
       " 149.1818458603929,\n",
       " 149.25410340461525,\n",
       " 149.42935835643598,\n",
       " 150.00940822593122,\n",
       " 149.36010402705327,\n",
       " 148.83849404127113,\n",
       " 149.06954624037138,\n",
       " 149.6750826219219,\n",
       " 149.61441442339904,\n",
       " 149.75950378048185,\n",
       " 149.60900581531973,\n",
       " 150.04526625394766,\n",
       " 148.91197007144876,\n",
       " 151.1625913863246,\n",
       " 148.31668100057652,\n",
       " 148.5230196119361,\n",
       " 148.1552325650621,\n",
       " 148.98437192565694,\n",
       " 148.83212650911054,\n",
       " 148.64837246075874,\n",
       " 148.09960131926212,\n",
       " 147.26472787501888,\n",
       " 147.29186704985096,\n",
       " 148.50463373699287,\n",
       " 149.16182482249332,\n",
       " 148.98544610162642,\n",
       " 148.1552325650621,\n",
       " 149.7853574914596,\n",
       " 149.73022005669074,\n",
       " 149.91821347122828,\n",
       " 149.50463713249138,\n",
       " 148.20057816300135,\n",
       " 148.62455967658258,\n",
       " 148.98329774968744,\n",
       " 149.7853574914596,\n",
       " 149.9712582464325,\n",
       " 148.50287355056048,\n",
       " 148.47206096503731,\n",
       " 150.25582271875606,\n",
       " 149.9712582464325,\n",
       " 149.06954624037138,\n",
       " 147.9916843994328,\n",
       " 148.64837246075874,\n",
       " 148.61306051046782,\n",
       " 149.36010402705327,\n",
       " 149.16182482249332,\n",
       " 150.8112175367142,\n",
       " 148.62455967658258,\n",
       " 150.2466423255614,\n",
       " 150.6310178718284,\n",
       " 145.7850341103778,\n",
       " 148.755339643103,\n",
       " 147.29186704985096,\n",
       " 148.58386267494714,\n",
       " 148.3474935860997,\n",
       " 149.906445616996,\n",
       " 148.1753626905959,\n",
       " 148.1921136216389,\n",
       " 148.98329774968744,\n",
       " 147.68678754110866,\n",
       " 147.50663574522645,\n",
       " 148.98544610162642,\n",
       " 149.1818458603929,\n",
       " 148.91089589547929,\n",
       " 150.9589669447004,\n",
       " 148.98544610162642,\n",
       " 148.91197007144876,\n",
       " 146.6979037913591,\n",
       " 148.5431656733117,\n",
       " 150.04526625394766,\n",
       " 148.6721852449349,\n",
       " 148.74897211094242,\n",
       " 150.80752811450282,\n",
       " 147.9975840848253,\n",
       " 148.22070828853515,\n",
       " 146.64540250226003,\n",
       " 148.04734926795294,\n",
       " 149.8439249390418,\n",
       " 150.1953852616626,\n",
       " 148.62455967658258,\n",
       " 150.12032575780512,\n",
       " 148.09960131926212,\n",
       " 149.5537462248762,\n",
       " 146.6880401407746,\n",
       " 149.16182482249332,\n",
       " 149.27412444251485,\n",
       " 149.16182482249332,\n",
       " 149.43265413917985,\n",
       " 148.1518533705713,\n",
       " 149.02749617099892,\n",
       " 148.47206096503731,\n",
       " 148.24930295543138,\n",
       " 146.62953345264663,\n",
       " 151.4188093585243,\n",
       " 150.1459542897545,\n",
       " 148.50287355056048,\n",
       " 148.83212650911054,\n",
       " 149.946336388924,\n",
       " 148.39623431437155,\n",
       " 149.43265413917985,\n",
       " 146.58959105483535,\n",
       " 148.22070828853515,\n",
       " 148.83849404127113,\n",
       " 150.77666481255312,\n",
       " 151.2014152008431,\n",
       " 146.5627154406754,\n",
       " 148.83849404127113,\n",
       " 148.04144958256046,\n",
       " 149.25410340461525,\n",
       " 151.2854134067211,\n",
       " 148.09960131926212,\n",
       " 148.57811309188975,\n",
       " 148.1552325650621,\n",
       " 149.20797594443366,\n",
       " 148.7194097437089,\n",
       " 146.26557372806928,\n",
       " 149.42394585264532,\n",
       " 148.83849404127113,\n",
       " 149.29414548041441,\n",
       " 149.13979579102042,\n",
       " 150.6310178718284,\n",
       " 149.43265413917985,\n",
       " 148.1586117595529,\n",
       " 148.52477979836848,\n",
       " 149.16182482249332,\n",
       " 148.47206096503731,\n",
       " 151.39453142038607,\n",
       " 147.23721428387415,\n",
       " 148.44124837951412,\n",
       " 149.56518317533954,\n",
       " 148.64837246075874,\n",
       " 148.83849404127113,\n",
       " 149.91821347122828,\n",
       " 149.42394585264532,\n",
       " 148.64837246075874,\n",
       " 147.31900622468305,\n",
       " 148.1518533705713,\n",
       " 149.50463713249138,\n",
       " 149.16182482249332,\n",
       " 148.47382115146968,\n",
       " 149.42935835643598,\n",
       " 146.51127241094122,\n",
       " 148.37608825299594,\n",
       " 151.39117627646195,\n",
       " 149.5766201258029,\n",
       " 149.49320018202803,\n",
       " 149.946336388924,\n",
       " 149.42606257369212,\n",
       " 148.83212650911054,\n",
       " 147.4103821934047,\n",
       " 147.9916843994328,\n",
       " 149.6750826219219,\n",
       " 147.45850896931557,\n",
       " 150.0844677297887,\n",
       " 150.2162325738994,\n",
       " 149.946336388924,\n",
       " 148.82774149731117,\n",
       " 148.2999300695335,\n",
       " 149.6258513738624,\n",
       " 150.61841525300585,\n",
       " 149.02749617099892,\n",
       " 147.9028991624189,\n",
       " 149.94358988308923,\n",
       " 148.82575897694997,\n",
       " 147.90737911934423,\n",
       " 148.20395735749213,\n",
       " 149.3400829891537,\n",
       " 146.67710291645346,\n",
       " 146.7326265100578,\n",
       " 147.55323705063887,\n",
       " 146.52839833476864,\n",
       " 149.6750826219219,\n",
       " 148.50463373699287,\n",
       " 149.27412444251485,\n",
       " 148.755339643103,\n",
       " 148.98437192565694,\n",
       " 149.56518317533954,\n",
       " 148.47382115146968,\n",
       " 148.98437192565694,\n",
       " 147.86693933699087,\n",
       " 148.83212650911054,\n",
       " 149.6258513738624,\n",
       " 148.5431656733117,\n",
       " 148.22070828853515,\n",
       " 149.25410340461525,\n",
       " 149.43265413917985,\n",
       " 148.1753626905959,\n",
       " 148.9476526086607,\n",
       " 148.1586117595529,\n",
       " 148.47206096503731,\n",
       " 148.98544610162642,\n",
       " 149.06954624037138,\n",
       " 150.52069154588457,\n",
       " 148.50639392342526,\n",
       " 149.49320018202803,\n",
       " 148.34527566747275,\n",
       " 148.22070828853515,\n",
       " 151.4188093585243,\n",
       " 148.1753626905959,\n",
       " 148.04734926795294,\n",
       " 149.29414548041441,\n",
       " 149.25410340461525,\n",
       " 148.98329774968744,\n",
       " 147.9975840848253,\n",
       " 149.73022005669074,\n",
       " 146.2758115690611,\n",
       " 149.49320018202803,\n",
       " 149.88106920513505,\n",
       " 149.56518317533954,\n",
       " 149.91821347122828,\n",
       " 148.83849404127113,\n",
       " 149.68098880863124,\n",
       " 149.97355019791482,\n",
       " 148.55972721694656,\n",
       " 148.50639392342526,\n",
       " 146.5627154406754,\n",
       " 148.6188100935252,\n",
       " 147.45850896931557,\n",
       " 147.9388589878469,\n",
       " 148.83212650911054,\n",
       " 148.64837246075874,\n",
       " 151.08178896509685,\n",
       " 149.73022005669074,\n",
       " 149.41536176520907,\n",
       " 148.34527566747275,\n",
       " 150.2370798861362,\n",
       " 148.83849404127113,\n",
       " 150.00711627444892,\n",
       " 150.0844677297887,\n",
       " 149.73022005669074,\n",
       " 148.73152685892686,\n",
       " 148.09960131926212,\n",
       " 145.81698084760205,\n",
       " 149.9237064828978,\n",
       " 149.36339980979713,\n",
       " 148.1586117595529,\n",
       " 149.56518317533954,\n",
       " 146.39724683978753,\n",
       " 149.43265413917985,\n",
       " 149.49320018202803,\n",
       " 150.47478513879446,\n",
       " 147.7333888465211,\n",
       " 146.33319159088262,\n",
       " 148.09708082836045,\n",
       " 149.5766201258029,\n",
       " 150.84469103009343,\n",
       " 148.5431656733117,\n",
       " 148.47206096503731,\n",
       " 148.04734926795294,\n",
       " 149.02749617099892,\n",
       " 149.27412444251485,\n",
       " 149.1818458603929,\n",
       " 149.6750826219219,\n",
       " 148.44124837951412,\n",
       " 147.45850896931557,\n",
       " 147.2781102542786,\n",
       " 148.5230196119361,\n",
       " 148.10298051375293,\n",
       " 150.00711627444892,\n",
       " 148.73152685892686,\n",
       " 147.55323705063887,\n",
       " 149.946336388924,\n",
       " 150.47478513879446,\n",
       " 149.49320018202803,\n",
       " 149.946336388924,\n",
       " 149.96896629495018,\n",
       " 149.6695518581679,\n",
       " 146.5627154406754,\n",
       " 148.1518533705713,\n",
       " 149.42606257369212,\n",
       " 147.9975840848253,\n",
       " 148.83212650911054,\n",
       " 149.16182482249332,\n",
       " 148.82575897694997,\n",
       " 148.52477979836848,\n",
       " 147.26472787501888,\n",
       " 148.62455967658258,\n",
       " 149.42935835643598,\n",
       " 148.47382115146968,\n",
       " 147.9028991624189,\n",
       " 148.5431656733117,\n",
       " 148.24930295543138,\n",
       " 148.47206096503731,\n",
       " 147.94333894477228,\n",
       " 148.91089589547929,\n",
       " 149.43265413917985,\n",
       " 148.98329774968744,\n",
       " 148.20057816300135,\n",
       " 148.83849404127113,\n",
       " 150.12032575780512,\n",
       " 148.1753626905959,\n",
       " 149.79939455240986,\n",
       " 151.36306103575805,\n",
       " 146.6979037913591,\n",
       " 148.98329774968744,\n",
       " 147.7333888465211,\n",
       " 149.8439249390418,\n",
       " 149.73022005669074,\n",
       " 147.0181508059287,\n",
       " 150.3617721970657,\n",
       " 149.11870057715134,\n",
       " 148.91089589547929,\n",
       " 147.99310412789993,\n",
       " 147.0181508059287,\n",
       " 150.8112175367142,\n",
       " 148.1921136216389,\n",
       " 149.73022005669074,\n",
       " 148.98437192565694,\n",
       " 147.23721428387415,\n",
       " 146.6661656921323,\n",
       " 146.6820347417457,\n",
       " 149.42606257369212,\n",
       " 148.82774149731117,\n",
       " 147.26472787501888,\n",
       " 146.5619007664347,\n",
       " 149.6750826219219,\n",
       " 150.76109074521094,\n",
       " 149.29414548041441,\n",
       " 149.88106920513505,\n",
       " 148.83212650911054,\n",
       " 148.1518533705713,\n",
       " 150.25104149904348,\n",
       " 147.2781102542786,\n",
       " 147.94333894477228,\n",
       " 148.1753626905959,\n",
       " 148.91089589547929,\n",
       " 147.505110274728,\n",
       " 147.55323705063887,\n",
       " 149.06954624037138,\n",
       " 148.6188100935252,\n",
       " 148.55972721694656,\n",
       " 149.56518317533954,\n",
       " 147.26472787501888,\n",
       " 146.05343365218704,\n",
       " 147.4103821934047,\n",
       " 149.92095997706303,\n",
       " 148.24930295543138,\n",
       " 148.3325028414891,\n",
       " 147.9916843994328,\n",
       " 148.91089589547929,\n",
       " 147.32379823863943,\n",
       " 149.5537462248762,\n",
       " 150.24186110584878,\n",
       " 147.94781890169762,\n",
       " 149.27412444251485,\n",
       " 149.02749617099892,\n",
       " 150.3780160536795,\n",
       " 148.61306051046782,\n",
       " 151.41599566253092,\n",
       " 148.47206096503731,\n",
       " 150.3617721970657,\n",
       " 148.83212650911054,\n",
       " 148.1518533705713,\n",
       " ...]"
      ]
     },
     "execution_count": 30,
     "metadata": {},
     "output_type": "execute_result"
    }
   ],
   "source": [
    "medians"
   ]
  },
  {
   "cell_type": "code",
   "execution_count": 31,
   "metadata": {},
   "outputs": [
    {
     "data": {
      "text/plain": [
       "BootstrapResult(confidence_interval=ConfidenceInterval(low=146.68018484270613, high=150.77850952365884), standard_error=0.9878243592116487)"
      ]
     },
     "execution_count": 31,
     "metadata": {},
     "output_type": "execute_result"
    }
   ],
   "source": [
    "bootstrap((control_df.value, ), np.median)"
   ]
  },
  {
   "cell_type": "code",
   "execution_count": null,
   "metadata": {},
   "outputs": [],
   "source": []
  },
  {
   "cell_type": "code",
   "execution_count": null,
   "metadata": {},
   "outputs": [],
   "source": []
  },
  {
   "cell_type": "code",
   "execution_count": null,
   "metadata": {},
   "outputs": [],
   "source": []
  },
  {
   "cell_type": "code",
   "execution_count": 1,
   "metadata": {},
   "outputs": [],
   "source": [
    "import numpy as np\n",
    "from scipy.stats import chi2_contingency"
   ]
  },
  {
   "cell_type": "code",
   "execution_count": 2,
   "metadata": {},
   "outputs": [],
   "source": [
    "tab_data = [[21, 16], [75, 60], [5, 10]]"
   ]
  },
  {
   "cell_type": "code",
   "execution_count": 3,
   "metadata": {},
   "outputs": [
    {
     "data": {
      "text/plain": [
       "(2.8239706434502656,\n",
       " 0.24365906101675808,\n",
       " 2,\n",
       " array([[19.98395722, 17.01604278],\n",
       "        [72.9144385 , 62.0855615 ],\n",
       "        [ 8.10160428,  6.89839572]]))"
      ]
     },
     "execution_count": 3,
     "metadata": {},
     "output_type": "execute_result"
    }
   ],
   "source": [
    "chi2_contingency(tab_data)"
   ]
  },
  {
   "cell_type": "code",
   "execution_count": null,
   "metadata": {},
   "outputs": [],
   "source": []
  }
 ],
 "metadata": {
  "kernelspec": {
   "display_name": "Python 3",
   "language": "python",
   "name": "python3"
  },
  "language_info": {
   "codemirror_mode": {
    "name": "ipython",
    "version": 3
   },
   "file_extension": ".py",
   "mimetype": "text/x-python",
   "name": "python",
   "nbconvert_exporter": "python",
   "pygments_lexer": "ipython3",
   "version": "3.7.3"
  }
 },
 "nbformat": 4,
 "nbformat_minor": 4
}
